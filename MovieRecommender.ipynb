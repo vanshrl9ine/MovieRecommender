{
 "cells": [
  {
   "cell_type": "code",
   "execution_count": 1,
   "id": "18ac0dfa",
   "metadata": {},
   "outputs": [],
   "source": [
    "import numpy as np\n",
    "import pandas as pd\n",
    "import nltk\n",
    "from nltk.stem.porter import PorterStemmer\n",
    "import pickle"
   ]
  },
  {
   "cell_type": "code",
   "execution_count": 2,
   "id": "bc446635",
   "metadata": {},
   "outputs": [],
   "source": [
    "movies=pd.read_csv('tmdb_5000_movies.csv')\n",
    "credits=pd.read_csv('tmdb_5000_credits.csv')"
   ]
  },
  {
   "cell_type": "code",
   "execution_count": 3,
   "id": "9340c1b3",
   "metadata": {},
   "outputs": [
    {
     "data": {
      "text/html": [
       "<div>\n",
       "<style scoped>\n",
       "    .dataframe tbody tr th:only-of-type {\n",
       "        vertical-align: middle;\n",
       "    }\n",
       "\n",
       "    .dataframe tbody tr th {\n",
       "        vertical-align: top;\n",
       "    }\n",
       "\n",
       "    .dataframe thead th {\n",
       "        text-align: right;\n",
       "    }\n",
       "</style>\n",
       "<table border=\"1\" class=\"dataframe\">\n",
       "  <thead>\n",
       "    <tr style=\"text-align: right;\">\n",
       "      <th></th>\n",
       "      <th>budget</th>\n",
       "      <th>genres</th>\n",
       "      <th>homepage</th>\n",
       "      <th>id</th>\n",
       "      <th>keywords</th>\n",
       "      <th>original_language</th>\n",
       "      <th>original_title</th>\n",
       "      <th>overview</th>\n",
       "      <th>popularity</th>\n",
       "      <th>production_companies</th>\n",
       "      <th>production_countries</th>\n",
       "      <th>release_date</th>\n",
       "      <th>revenue</th>\n",
       "      <th>runtime</th>\n",
       "      <th>spoken_languages</th>\n",
       "      <th>status</th>\n",
       "      <th>tagline</th>\n",
       "      <th>title</th>\n",
       "      <th>vote_average</th>\n",
       "      <th>vote_count</th>\n",
       "    </tr>\n",
       "  </thead>\n",
       "  <tbody>\n",
       "    <tr>\n",
       "      <th>0</th>\n",
       "      <td>237000000</td>\n",
       "      <td>[{\"id\": 28, \"name\": \"Action\"}, {\"id\": 12, \"nam...</td>\n",
       "      <td>http://www.avatarmovie.com/</td>\n",
       "      <td>19995</td>\n",
       "      <td>[{\"id\": 1463, \"name\": \"culture clash\"}, {\"id\":...</td>\n",
       "      <td>en</td>\n",
       "      <td>Avatar</td>\n",
       "      <td>In the 22nd century, a paraplegic Marine is di...</td>\n",
       "      <td>150.437577</td>\n",
       "      <td>[{\"name\": \"Ingenious Film Partners\", \"id\": 289...</td>\n",
       "      <td>[{\"iso_3166_1\": \"US\", \"name\": \"United States o...</td>\n",
       "      <td>2009-12-10</td>\n",
       "      <td>2787965087</td>\n",
       "      <td>162.0</td>\n",
       "      <td>[{\"iso_639_1\": \"en\", \"name\": \"English\"}, {\"iso...</td>\n",
       "      <td>Released</td>\n",
       "      <td>Enter the World of Pandora.</td>\n",
       "      <td>Avatar</td>\n",
       "      <td>7.2</td>\n",
       "      <td>11800</td>\n",
       "    </tr>\n",
       "  </tbody>\n",
       "</table>\n",
       "</div>"
      ],
      "text/plain": [
       "      budget                                             genres  \\\n",
       "0  237000000  [{\"id\": 28, \"name\": \"Action\"}, {\"id\": 12, \"nam...   \n",
       "\n",
       "                      homepage     id  \\\n",
       "0  http://www.avatarmovie.com/  19995   \n",
       "\n",
       "                                            keywords original_language  \\\n",
       "0  [{\"id\": 1463, \"name\": \"culture clash\"}, {\"id\":...                en   \n",
       "\n",
       "  original_title                                           overview  \\\n",
       "0         Avatar  In the 22nd century, a paraplegic Marine is di...   \n",
       "\n",
       "   popularity                               production_companies  \\\n",
       "0  150.437577  [{\"name\": \"Ingenious Film Partners\", \"id\": 289...   \n",
       "\n",
       "                                production_countries release_date     revenue  \\\n",
       "0  [{\"iso_3166_1\": \"US\", \"name\": \"United States o...   2009-12-10  2787965087   \n",
       "\n",
       "   runtime                                   spoken_languages    status  \\\n",
       "0    162.0  [{\"iso_639_1\": \"en\", \"name\": \"English\"}, {\"iso...  Released   \n",
       "\n",
       "                       tagline   title  vote_average  vote_count  \n",
       "0  Enter the World of Pandora.  Avatar           7.2       11800  "
      ]
     },
     "execution_count": 3,
     "metadata": {},
     "output_type": "execute_result"
    }
   ],
   "source": [
    "movies.head(1)"
   ]
  },
  {
   "cell_type": "code",
   "execution_count": 4,
   "id": "ee7441c1",
   "metadata": {},
   "outputs": [
    {
     "data": {
      "text/html": [
       "<div>\n",
       "<style scoped>\n",
       "    .dataframe tbody tr th:only-of-type {\n",
       "        vertical-align: middle;\n",
       "    }\n",
       "\n",
       "    .dataframe tbody tr th {\n",
       "        vertical-align: top;\n",
       "    }\n",
       "\n",
       "    .dataframe thead th {\n",
       "        text-align: right;\n",
       "    }\n",
       "</style>\n",
       "<table border=\"1\" class=\"dataframe\">\n",
       "  <thead>\n",
       "    <tr style=\"text-align: right;\">\n",
       "      <th></th>\n",
       "      <th>movie_id</th>\n",
       "      <th>title</th>\n",
       "      <th>cast</th>\n",
       "      <th>crew</th>\n",
       "    </tr>\n",
       "  </thead>\n",
       "  <tbody>\n",
       "    <tr>\n",
       "      <th>0</th>\n",
       "      <td>19995</td>\n",
       "      <td>Avatar</td>\n",
       "      <td>[{\"cast_id\": 242, \"character\": \"Jake Sully\", \"...</td>\n",
       "      <td>[{\"credit_id\": \"52fe48009251416c750aca23\", \"de...</td>\n",
       "    </tr>\n",
       "  </tbody>\n",
       "</table>\n",
       "</div>"
      ],
      "text/plain": [
       "   movie_id   title                                               cast  \\\n",
       "0     19995  Avatar  [{\"cast_id\": 242, \"character\": \"Jake Sully\", \"...   \n",
       "\n",
       "                                                crew  \n",
       "0  [{\"credit_id\": \"52fe48009251416c750aca23\", \"de...  "
      ]
     },
     "execution_count": 4,
     "metadata": {},
     "output_type": "execute_result"
    }
   ],
   "source": [
    "credits.head(1)"
   ]
  },
  {
   "cell_type": "code",
   "execution_count": 5,
   "id": "a1c8b033",
   "metadata": {},
   "outputs": [],
   "source": [
    "movies=movies.merge(credits,on='title')"
   ]
  },
  {
   "cell_type": "code",
   "execution_count": 6,
   "id": "d89b1bb9",
   "metadata": {},
   "outputs": [
    {
     "data": {
      "text/plain": [
       "(4809, 23)"
      ]
     },
     "execution_count": 6,
     "metadata": {},
     "output_type": "execute_result"
    }
   ],
   "source": [
    "movies.shape"
   ]
  },
  {
   "cell_type": "code",
   "execution_count": 7,
   "id": "2fd32124",
   "metadata": {},
   "outputs": [
    {
     "name": "stdout",
     "output_type": "stream",
     "text": [
      "<class 'pandas.core.frame.DataFrame'>\n",
      "Int64Index: 4809 entries, 0 to 4808\n",
      "Data columns (total 23 columns):\n",
      " #   Column                Non-Null Count  Dtype  \n",
      "---  ------                --------------  -----  \n",
      " 0   budget                4809 non-null   int64  \n",
      " 1   genres                4809 non-null   object \n",
      " 2   homepage              1713 non-null   object \n",
      " 3   id                    4809 non-null   int64  \n",
      " 4   keywords              4809 non-null   object \n",
      " 5   original_language     4809 non-null   object \n",
      " 6   original_title        4809 non-null   object \n",
      " 7   overview              4806 non-null   object \n",
      " 8   popularity            4809 non-null   float64\n",
      " 9   production_companies  4809 non-null   object \n",
      " 10  production_countries  4809 non-null   object \n",
      " 11  release_date          4808 non-null   object \n",
      " 12  revenue               4809 non-null   int64  \n",
      " 13  runtime               4807 non-null   float64\n",
      " 14  spoken_languages      4809 non-null   object \n",
      " 15  status                4809 non-null   object \n",
      " 16  tagline               3965 non-null   object \n",
      " 17  title                 4809 non-null   object \n",
      " 18  vote_average          4809 non-null   float64\n",
      " 19  vote_count            4809 non-null   int64  \n",
      " 20  movie_id              4809 non-null   int64  \n",
      " 21  cast                  4809 non-null   object \n",
      " 22  crew                  4809 non-null   object \n",
      "dtypes: float64(3), int64(5), object(15)\n",
      "memory usage: 901.7+ KB\n"
     ]
    }
   ],
   "source": [
    "movies.info()"
   ]
  },
  {
   "cell_type": "code",
   "execution_count": 8,
   "id": "48d4d499",
   "metadata": {},
   "outputs": [],
   "source": [
    "#useful columns:genres,id(useful later),keywords,title,overview,cast,crew\n",
    "#dropped columns:budget,language(highly unbalanced),homepage,popularity(we are using tags),production_companies,numerical values are basically not used"
   ]
  },
  {
   "cell_type": "code",
   "execution_count": 9,
   "id": "21d987af",
   "metadata": {},
   "outputs": [],
   "source": [
    "movies=movies[['movie_id','title','overview','genres','keywords','cast','crew']]"
   ]
  },
  {
   "cell_type": "code",
   "execution_count": 10,
   "id": "95d3ac71",
   "metadata": {},
   "outputs": [
    {
     "name": "stdout",
     "output_type": "stream",
     "text": [
      "<class 'pandas.core.frame.DataFrame'>\n",
      "Int64Index: 4809 entries, 0 to 4808\n",
      "Data columns (total 7 columns):\n",
      " #   Column    Non-Null Count  Dtype \n",
      "---  ------    --------------  ----- \n",
      " 0   movie_id  4809 non-null   int64 \n",
      " 1   title     4809 non-null   object\n",
      " 2   overview  4806 non-null   object\n",
      " 3   genres    4809 non-null   object\n",
      " 4   keywords  4809 non-null   object\n",
      " 5   cast      4809 non-null   object\n",
      " 6   crew      4809 non-null   object\n",
      "dtypes: int64(1), object(6)\n",
      "memory usage: 300.6+ KB\n"
     ]
    }
   ],
   "source": [
    "movies.info()"
   ]
  },
  {
   "cell_type": "code",
   "execution_count": 11,
   "id": "a33631fa",
   "metadata": {},
   "outputs": [
    {
     "data": {
      "text/plain": [
       "movie_id    0\n",
       "title       0\n",
       "overview    3\n",
       "genres      0\n",
       "keywords    0\n",
       "cast        0\n",
       "crew        0\n",
       "dtype: int64"
      ]
     },
     "execution_count": 11,
     "metadata": {},
     "output_type": "execute_result"
    }
   ],
   "source": [
    "movies.isnull().sum()"
   ]
  },
  {
   "cell_type": "code",
   "execution_count": 12,
   "id": "7b686542",
   "metadata": {},
   "outputs": [],
   "source": [
    "movies.dropna(inplace=True)"
   ]
  },
  {
   "cell_type": "code",
   "execution_count": 13,
   "id": "702802d5",
   "metadata": {},
   "outputs": [
    {
     "data": {
      "text/plain": [
       "0"
      ]
     },
     "execution_count": 13,
     "metadata": {},
     "output_type": "execute_result"
    }
   ],
   "source": [
    "movies.duplicated().sum()"
   ]
  },
  {
   "cell_type": "code",
   "execution_count": 14,
   "id": "937ac68b",
   "metadata": {},
   "outputs": [
    {
     "data": {
      "text/plain": [
       "'[{\"id\": 28, \"name\": \"Action\"}, {\"id\": 12, \"name\": \"Adventure\"}, {\"id\": 14, \"name\": \"Fantasy\"}, {\"id\": 878, \"name\": \"Science Fiction\"}]'"
      ]
     },
     "execution_count": 14,
     "metadata": {},
     "output_type": "execute_result"
    }
   ],
   "source": [
    "movies.iloc[0].genres"
   ]
  },
  {
   "cell_type": "code",
   "execution_count": 15,
   "id": "d6f3a292",
   "metadata": {},
   "outputs": [],
   "source": [
    "#format needed-\n",
    "#['Action','Adventure','Fantasy'.'Sci-fi fiction']\n"
   ]
  },
  {
   "cell_type": "code",
   "execution_count": 16,
   "id": "bfae2b50",
   "metadata": {},
   "outputs": [],
   "source": [
    "def convert(obj):\n",
    "    l=[]\n",
    "    for i in eval(obj):\n",
    "        l.append(i['name'])\n",
    "    return l    "
   ]
  },
  {
   "cell_type": "code",
   "execution_count": 17,
   "id": "b270cc09",
   "metadata": {},
   "outputs": [
    {
     "data": {
      "text/plain": [
       "['Action', 'Adventure', 'Fantasy', 'Science Fiction']"
      ]
     },
     "execution_count": 17,
     "metadata": {},
     "output_type": "execute_result"
    }
   ],
   "source": [
    "convert('[{\"id\": 28, \"name\": \"Action\"}, {\"id\": 12, \"name\": \"Adventure\"}, {\"id\": 14, \"name\": \"Fantasy\"}, {\"id\": 878, \"name\": \"Science Fiction\"}]')"
   ]
  },
  {
   "cell_type": "code",
   "execution_count": 18,
   "id": "bb358cb6",
   "metadata": {},
   "outputs": [],
   "source": [
    "# movies['genres']=movies['genres'].apply(convert)"
   ]
  },
  {
   "cell_type": "code",
   "execution_count": 19,
   "id": "e3e0b7c8",
   "metadata": {},
   "outputs": [],
   "source": [
    "# movies['keywords']=movies['keywords'].apply(convert)"
   ]
  },
  {
   "cell_type": "code",
   "execution_count": 20,
   "id": "57a798db",
   "metadata": {},
   "outputs": [
    {
     "data": {
      "text/html": [
       "<div>\n",
       "<style scoped>\n",
       "    .dataframe tbody tr th:only-of-type {\n",
       "        vertical-align: middle;\n",
       "    }\n",
       "\n",
       "    .dataframe tbody tr th {\n",
       "        vertical-align: top;\n",
       "    }\n",
       "\n",
       "    .dataframe thead th {\n",
       "        text-align: right;\n",
       "    }\n",
       "</style>\n",
       "<table border=\"1\" class=\"dataframe\">\n",
       "  <thead>\n",
       "    <tr style=\"text-align: right;\">\n",
       "      <th></th>\n",
       "      <th>movie_id</th>\n",
       "      <th>title</th>\n",
       "      <th>overview</th>\n",
       "      <th>genres</th>\n",
       "      <th>keywords</th>\n",
       "      <th>cast</th>\n",
       "      <th>crew</th>\n",
       "    </tr>\n",
       "  </thead>\n",
       "  <tbody>\n",
       "    <tr>\n",
       "      <th>0</th>\n",
       "      <td>19995</td>\n",
       "      <td>Avatar</td>\n",
       "      <td>In the 22nd century, a paraplegic Marine is di...</td>\n",
       "      <td>[{\"id\": 28, \"name\": \"Action\"}, {\"id\": 12, \"nam...</td>\n",
       "      <td>[{\"id\": 1463, \"name\": \"culture clash\"}, {\"id\":...</td>\n",
       "      <td>[{\"cast_id\": 242, \"character\": \"Jake Sully\", \"...</td>\n",
       "      <td>[{\"credit_id\": \"52fe48009251416c750aca23\", \"de...</td>\n",
       "    </tr>\n",
       "    <tr>\n",
       "      <th>1</th>\n",
       "      <td>285</td>\n",
       "      <td>Pirates of the Caribbean: At World's End</td>\n",
       "      <td>Captain Barbossa, long believed to be dead, ha...</td>\n",
       "      <td>[{\"id\": 12, \"name\": \"Adventure\"}, {\"id\": 14, \"...</td>\n",
       "      <td>[{\"id\": 270, \"name\": \"ocean\"}, {\"id\": 726, \"na...</td>\n",
       "      <td>[{\"cast_id\": 4, \"character\": \"Captain Jack Spa...</td>\n",
       "      <td>[{\"credit_id\": \"52fe4232c3a36847f800b579\", \"de...</td>\n",
       "    </tr>\n",
       "    <tr>\n",
       "      <th>2</th>\n",
       "      <td>206647</td>\n",
       "      <td>Spectre</td>\n",
       "      <td>A cryptic message from Bond’s past sends him o...</td>\n",
       "      <td>[{\"id\": 28, \"name\": \"Action\"}, {\"id\": 12, \"nam...</td>\n",
       "      <td>[{\"id\": 470, \"name\": \"spy\"}, {\"id\": 818, \"name...</td>\n",
       "      <td>[{\"cast_id\": 1, \"character\": \"James Bond\", \"cr...</td>\n",
       "      <td>[{\"credit_id\": \"54805967c3a36829b5002c41\", \"de...</td>\n",
       "    </tr>\n",
       "    <tr>\n",
       "      <th>3</th>\n",
       "      <td>49026</td>\n",
       "      <td>The Dark Knight Rises</td>\n",
       "      <td>Following the death of District Attorney Harve...</td>\n",
       "      <td>[{\"id\": 28, \"name\": \"Action\"}, {\"id\": 80, \"nam...</td>\n",
       "      <td>[{\"id\": 849, \"name\": \"dc comics\"}, {\"id\": 853,...</td>\n",
       "      <td>[{\"cast_id\": 2, \"character\": \"Bruce Wayne / Ba...</td>\n",
       "      <td>[{\"credit_id\": \"52fe4781c3a36847f81398c3\", \"de...</td>\n",
       "    </tr>\n",
       "    <tr>\n",
       "      <th>4</th>\n",
       "      <td>49529</td>\n",
       "      <td>John Carter</td>\n",
       "      <td>John Carter is a war-weary, former military ca...</td>\n",
       "      <td>[{\"id\": 28, \"name\": \"Action\"}, {\"id\": 12, \"nam...</td>\n",
       "      <td>[{\"id\": 818, \"name\": \"based on novel\"}, {\"id\":...</td>\n",
       "      <td>[{\"cast_id\": 5, \"character\": \"John Carter\", \"c...</td>\n",
       "      <td>[{\"credit_id\": \"52fe479ac3a36847f813eaa3\", \"de...</td>\n",
       "    </tr>\n",
       "  </tbody>\n",
       "</table>\n",
       "</div>"
      ],
      "text/plain": [
       "   movie_id                                     title  \\\n",
       "0     19995                                    Avatar   \n",
       "1       285  Pirates of the Caribbean: At World's End   \n",
       "2    206647                                   Spectre   \n",
       "3     49026                     The Dark Knight Rises   \n",
       "4     49529                               John Carter   \n",
       "\n",
       "                                            overview  \\\n",
       "0  In the 22nd century, a paraplegic Marine is di...   \n",
       "1  Captain Barbossa, long believed to be dead, ha...   \n",
       "2  A cryptic message from Bond’s past sends him o...   \n",
       "3  Following the death of District Attorney Harve...   \n",
       "4  John Carter is a war-weary, former military ca...   \n",
       "\n",
       "                                              genres  \\\n",
       "0  [{\"id\": 28, \"name\": \"Action\"}, {\"id\": 12, \"nam...   \n",
       "1  [{\"id\": 12, \"name\": \"Adventure\"}, {\"id\": 14, \"...   \n",
       "2  [{\"id\": 28, \"name\": \"Action\"}, {\"id\": 12, \"nam...   \n",
       "3  [{\"id\": 28, \"name\": \"Action\"}, {\"id\": 80, \"nam...   \n",
       "4  [{\"id\": 28, \"name\": \"Action\"}, {\"id\": 12, \"nam...   \n",
       "\n",
       "                                            keywords  \\\n",
       "0  [{\"id\": 1463, \"name\": \"culture clash\"}, {\"id\":...   \n",
       "1  [{\"id\": 270, \"name\": \"ocean\"}, {\"id\": 726, \"na...   \n",
       "2  [{\"id\": 470, \"name\": \"spy\"}, {\"id\": 818, \"name...   \n",
       "3  [{\"id\": 849, \"name\": \"dc comics\"}, {\"id\": 853,...   \n",
       "4  [{\"id\": 818, \"name\": \"based on novel\"}, {\"id\":...   \n",
       "\n",
       "                                                cast  \\\n",
       "0  [{\"cast_id\": 242, \"character\": \"Jake Sully\", \"...   \n",
       "1  [{\"cast_id\": 4, \"character\": \"Captain Jack Spa...   \n",
       "2  [{\"cast_id\": 1, \"character\": \"James Bond\", \"cr...   \n",
       "3  [{\"cast_id\": 2, \"character\": \"Bruce Wayne / Ba...   \n",
       "4  [{\"cast_id\": 5, \"character\": \"John Carter\", \"c...   \n",
       "\n",
       "                                                crew  \n",
       "0  [{\"credit_id\": \"52fe48009251416c750aca23\", \"de...  \n",
       "1  [{\"credit_id\": \"52fe4232c3a36847f800b579\", \"de...  \n",
       "2  [{\"credit_id\": \"54805967c3a36829b5002c41\", \"de...  \n",
       "3  [{\"credit_id\": \"52fe4781c3a36847f81398c3\", \"de...  \n",
       "4  [{\"credit_id\": \"52fe479ac3a36847f813eaa3\", \"de...  "
      ]
     },
     "execution_count": 20,
     "metadata": {},
     "output_type": "execute_result"
    }
   ],
   "source": [
    "movies.head()"
   ]
  },
  {
   "cell_type": "code",
   "execution_count": 21,
   "id": "74f6d207",
   "metadata": {},
   "outputs": [],
   "source": [
    "movies['genres']=movies['genres'].apply(convert)"
   ]
  },
  {
   "cell_type": "code",
   "execution_count": 22,
   "id": "2196ce84",
   "metadata": {},
   "outputs": [],
   "source": [
    "movies['keywords']=movies['keywords'].apply(convert)"
   ]
  },
  {
   "cell_type": "code",
   "execution_count": 23,
   "id": "2dddbdc0",
   "metadata": {},
   "outputs": [
    {
     "data": {
      "text/html": [
       "<div>\n",
       "<style scoped>\n",
       "    .dataframe tbody tr th:only-of-type {\n",
       "        vertical-align: middle;\n",
       "    }\n",
       "\n",
       "    .dataframe tbody tr th {\n",
       "        vertical-align: top;\n",
       "    }\n",
       "\n",
       "    .dataframe thead th {\n",
       "        text-align: right;\n",
       "    }\n",
       "</style>\n",
       "<table border=\"1\" class=\"dataframe\">\n",
       "  <thead>\n",
       "    <tr style=\"text-align: right;\">\n",
       "      <th></th>\n",
       "      <th>movie_id</th>\n",
       "      <th>title</th>\n",
       "      <th>overview</th>\n",
       "      <th>genres</th>\n",
       "      <th>keywords</th>\n",
       "      <th>cast</th>\n",
       "      <th>crew</th>\n",
       "    </tr>\n",
       "  </thead>\n",
       "  <tbody>\n",
       "    <tr>\n",
       "      <th>0</th>\n",
       "      <td>19995</td>\n",
       "      <td>Avatar</td>\n",
       "      <td>In the 22nd century, a paraplegic Marine is di...</td>\n",
       "      <td>[Action, Adventure, Fantasy, Science Fiction]</td>\n",
       "      <td>[culture clash, future, space war, space colon...</td>\n",
       "      <td>[{\"cast_id\": 242, \"character\": \"Jake Sully\", \"...</td>\n",
       "      <td>[{\"credit_id\": \"52fe48009251416c750aca23\", \"de...</td>\n",
       "    </tr>\n",
       "    <tr>\n",
       "      <th>1</th>\n",
       "      <td>285</td>\n",
       "      <td>Pirates of the Caribbean: At World's End</td>\n",
       "      <td>Captain Barbossa, long believed to be dead, ha...</td>\n",
       "      <td>[Adventure, Fantasy, Action]</td>\n",
       "      <td>[ocean, drug abuse, exotic island, east india ...</td>\n",
       "      <td>[{\"cast_id\": 4, \"character\": \"Captain Jack Spa...</td>\n",
       "      <td>[{\"credit_id\": \"52fe4232c3a36847f800b579\", \"de...</td>\n",
       "    </tr>\n",
       "    <tr>\n",
       "      <th>2</th>\n",
       "      <td>206647</td>\n",
       "      <td>Spectre</td>\n",
       "      <td>A cryptic message from Bond’s past sends him o...</td>\n",
       "      <td>[Action, Adventure, Crime]</td>\n",
       "      <td>[spy, based on novel, secret agent, sequel, mi...</td>\n",
       "      <td>[{\"cast_id\": 1, \"character\": \"James Bond\", \"cr...</td>\n",
       "      <td>[{\"credit_id\": \"54805967c3a36829b5002c41\", \"de...</td>\n",
       "    </tr>\n",
       "    <tr>\n",
       "      <th>3</th>\n",
       "      <td>49026</td>\n",
       "      <td>The Dark Knight Rises</td>\n",
       "      <td>Following the death of District Attorney Harve...</td>\n",
       "      <td>[Action, Crime, Drama, Thriller]</td>\n",
       "      <td>[dc comics, crime fighter, terrorist, secret i...</td>\n",
       "      <td>[{\"cast_id\": 2, \"character\": \"Bruce Wayne / Ba...</td>\n",
       "      <td>[{\"credit_id\": \"52fe4781c3a36847f81398c3\", \"de...</td>\n",
       "    </tr>\n",
       "    <tr>\n",
       "      <th>4</th>\n",
       "      <td>49529</td>\n",
       "      <td>John Carter</td>\n",
       "      <td>John Carter is a war-weary, former military ca...</td>\n",
       "      <td>[Action, Adventure, Science Fiction]</td>\n",
       "      <td>[based on novel, mars, medallion, space travel...</td>\n",
       "      <td>[{\"cast_id\": 5, \"character\": \"John Carter\", \"c...</td>\n",
       "      <td>[{\"credit_id\": \"52fe479ac3a36847f813eaa3\", \"de...</td>\n",
       "    </tr>\n",
       "  </tbody>\n",
       "</table>\n",
       "</div>"
      ],
      "text/plain": [
       "   movie_id                                     title  \\\n",
       "0     19995                                    Avatar   \n",
       "1       285  Pirates of the Caribbean: At World's End   \n",
       "2    206647                                   Spectre   \n",
       "3     49026                     The Dark Knight Rises   \n",
       "4     49529                               John Carter   \n",
       "\n",
       "                                            overview  \\\n",
       "0  In the 22nd century, a paraplegic Marine is di...   \n",
       "1  Captain Barbossa, long believed to be dead, ha...   \n",
       "2  A cryptic message from Bond’s past sends him o...   \n",
       "3  Following the death of District Attorney Harve...   \n",
       "4  John Carter is a war-weary, former military ca...   \n",
       "\n",
       "                                          genres  \\\n",
       "0  [Action, Adventure, Fantasy, Science Fiction]   \n",
       "1                   [Adventure, Fantasy, Action]   \n",
       "2                     [Action, Adventure, Crime]   \n",
       "3               [Action, Crime, Drama, Thriller]   \n",
       "4           [Action, Adventure, Science Fiction]   \n",
       "\n",
       "                                            keywords  \\\n",
       "0  [culture clash, future, space war, space colon...   \n",
       "1  [ocean, drug abuse, exotic island, east india ...   \n",
       "2  [spy, based on novel, secret agent, sequel, mi...   \n",
       "3  [dc comics, crime fighter, terrorist, secret i...   \n",
       "4  [based on novel, mars, medallion, space travel...   \n",
       "\n",
       "                                                cast  \\\n",
       "0  [{\"cast_id\": 242, \"character\": \"Jake Sully\", \"...   \n",
       "1  [{\"cast_id\": 4, \"character\": \"Captain Jack Spa...   \n",
       "2  [{\"cast_id\": 1, \"character\": \"James Bond\", \"cr...   \n",
       "3  [{\"cast_id\": 2, \"character\": \"Bruce Wayne / Ba...   \n",
       "4  [{\"cast_id\": 5, \"character\": \"John Carter\", \"c...   \n",
       "\n",
       "                                                crew  \n",
       "0  [{\"credit_id\": \"52fe48009251416c750aca23\", \"de...  \n",
       "1  [{\"credit_id\": \"52fe4232c3a36847f800b579\", \"de...  \n",
       "2  [{\"credit_id\": \"54805967c3a36829b5002c41\", \"de...  \n",
       "3  [{\"credit_id\": \"52fe4781c3a36847f81398c3\", \"de...  \n",
       "4  [{\"credit_id\": \"52fe479ac3a36847f813eaa3\", \"de...  "
      ]
     },
     "execution_count": 23,
     "metadata": {},
     "output_type": "execute_result"
    }
   ],
   "source": [
    "movies.head()"
   ]
  },
  {
   "cell_type": "code",
   "execution_count": 24,
   "id": "875879cb",
   "metadata": {},
   "outputs": [],
   "source": [
    "def convert3(obj):\n",
    "    l=[]\n",
    "    counter=0\n",
    "    for i in eval(obj):\n",
    "       if counter!=3:\n",
    "        l.append(i['name'])\n",
    "        counter+=1\n",
    "       else:\n",
    "        break\n",
    "    return l    "
   ]
  },
  {
   "cell_type": "code",
   "execution_count": 25,
   "id": "9b431c82",
   "metadata": {},
   "outputs": [],
   "source": [
    "movies['cast']=movies['cast'].apply(convert3)"
   ]
  },
  {
   "cell_type": "code",
   "execution_count": 26,
   "id": "ae44e925",
   "metadata": {},
   "outputs": [
    {
     "data": {
      "text/html": [
       "<div>\n",
       "<style scoped>\n",
       "    .dataframe tbody tr th:only-of-type {\n",
       "        vertical-align: middle;\n",
       "    }\n",
       "\n",
       "    .dataframe tbody tr th {\n",
       "        vertical-align: top;\n",
       "    }\n",
       "\n",
       "    .dataframe thead th {\n",
       "        text-align: right;\n",
       "    }\n",
       "</style>\n",
       "<table border=\"1\" class=\"dataframe\">\n",
       "  <thead>\n",
       "    <tr style=\"text-align: right;\">\n",
       "      <th></th>\n",
       "      <th>movie_id</th>\n",
       "      <th>title</th>\n",
       "      <th>overview</th>\n",
       "      <th>genres</th>\n",
       "      <th>keywords</th>\n",
       "      <th>cast</th>\n",
       "      <th>crew</th>\n",
       "    </tr>\n",
       "  </thead>\n",
       "  <tbody>\n",
       "    <tr>\n",
       "      <th>0</th>\n",
       "      <td>19995</td>\n",
       "      <td>Avatar</td>\n",
       "      <td>In the 22nd century, a paraplegic Marine is di...</td>\n",
       "      <td>[Action, Adventure, Fantasy, Science Fiction]</td>\n",
       "      <td>[culture clash, future, space war, space colon...</td>\n",
       "      <td>[Sam Worthington, Zoe Saldana, Sigourney Weaver]</td>\n",
       "      <td>[{\"credit_id\": \"52fe48009251416c750aca23\", \"de...</td>\n",
       "    </tr>\n",
       "    <tr>\n",
       "      <th>1</th>\n",
       "      <td>285</td>\n",
       "      <td>Pirates of the Caribbean: At World's End</td>\n",
       "      <td>Captain Barbossa, long believed to be dead, ha...</td>\n",
       "      <td>[Adventure, Fantasy, Action]</td>\n",
       "      <td>[ocean, drug abuse, exotic island, east india ...</td>\n",
       "      <td>[Johnny Depp, Orlando Bloom, Keira Knightley]</td>\n",
       "      <td>[{\"credit_id\": \"52fe4232c3a36847f800b579\", \"de...</td>\n",
       "    </tr>\n",
       "    <tr>\n",
       "      <th>2</th>\n",
       "      <td>206647</td>\n",
       "      <td>Spectre</td>\n",
       "      <td>A cryptic message from Bond’s past sends him o...</td>\n",
       "      <td>[Action, Adventure, Crime]</td>\n",
       "      <td>[spy, based on novel, secret agent, sequel, mi...</td>\n",
       "      <td>[Daniel Craig, Christoph Waltz, Léa Seydoux]</td>\n",
       "      <td>[{\"credit_id\": \"54805967c3a36829b5002c41\", \"de...</td>\n",
       "    </tr>\n",
       "    <tr>\n",
       "      <th>3</th>\n",
       "      <td>49026</td>\n",
       "      <td>The Dark Knight Rises</td>\n",
       "      <td>Following the death of District Attorney Harve...</td>\n",
       "      <td>[Action, Crime, Drama, Thriller]</td>\n",
       "      <td>[dc comics, crime fighter, terrorist, secret i...</td>\n",
       "      <td>[Christian Bale, Michael Caine, Gary Oldman]</td>\n",
       "      <td>[{\"credit_id\": \"52fe4781c3a36847f81398c3\", \"de...</td>\n",
       "    </tr>\n",
       "    <tr>\n",
       "      <th>4</th>\n",
       "      <td>49529</td>\n",
       "      <td>John Carter</td>\n",
       "      <td>John Carter is a war-weary, former military ca...</td>\n",
       "      <td>[Action, Adventure, Science Fiction]</td>\n",
       "      <td>[based on novel, mars, medallion, space travel...</td>\n",
       "      <td>[Taylor Kitsch, Lynn Collins, Samantha Morton]</td>\n",
       "      <td>[{\"credit_id\": \"52fe479ac3a36847f813eaa3\", \"de...</td>\n",
       "    </tr>\n",
       "  </tbody>\n",
       "</table>\n",
       "</div>"
      ],
      "text/plain": [
       "   movie_id                                     title  \\\n",
       "0     19995                                    Avatar   \n",
       "1       285  Pirates of the Caribbean: At World's End   \n",
       "2    206647                                   Spectre   \n",
       "3     49026                     The Dark Knight Rises   \n",
       "4     49529                               John Carter   \n",
       "\n",
       "                                            overview  \\\n",
       "0  In the 22nd century, a paraplegic Marine is di...   \n",
       "1  Captain Barbossa, long believed to be dead, ha...   \n",
       "2  A cryptic message from Bond’s past sends him o...   \n",
       "3  Following the death of District Attorney Harve...   \n",
       "4  John Carter is a war-weary, former military ca...   \n",
       "\n",
       "                                          genres  \\\n",
       "0  [Action, Adventure, Fantasy, Science Fiction]   \n",
       "1                   [Adventure, Fantasy, Action]   \n",
       "2                     [Action, Adventure, Crime]   \n",
       "3               [Action, Crime, Drama, Thriller]   \n",
       "4           [Action, Adventure, Science Fiction]   \n",
       "\n",
       "                                            keywords  \\\n",
       "0  [culture clash, future, space war, space colon...   \n",
       "1  [ocean, drug abuse, exotic island, east india ...   \n",
       "2  [spy, based on novel, secret agent, sequel, mi...   \n",
       "3  [dc comics, crime fighter, terrorist, secret i...   \n",
       "4  [based on novel, mars, medallion, space travel...   \n",
       "\n",
       "                                               cast  \\\n",
       "0  [Sam Worthington, Zoe Saldana, Sigourney Weaver]   \n",
       "1     [Johnny Depp, Orlando Bloom, Keira Knightley]   \n",
       "2      [Daniel Craig, Christoph Waltz, Léa Seydoux]   \n",
       "3      [Christian Bale, Michael Caine, Gary Oldman]   \n",
       "4    [Taylor Kitsch, Lynn Collins, Samantha Morton]   \n",
       "\n",
       "                                                crew  \n",
       "0  [{\"credit_id\": \"52fe48009251416c750aca23\", \"de...  \n",
       "1  [{\"credit_id\": \"52fe4232c3a36847f800b579\", \"de...  \n",
       "2  [{\"credit_id\": \"54805967c3a36829b5002c41\", \"de...  \n",
       "3  [{\"credit_id\": \"52fe4781c3a36847f81398c3\", \"de...  \n",
       "4  [{\"credit_id\": \"52fe479ac3a36847f813eaa3\", \"de...  "
      ]
     },
     "execution_count": 26,
     "metadata": {},
     "output_type": "execute_result"
    }
   ],
   "source": [
    "movies.head()"
   ]
  },
  {
   "cell_type": "code",
   "execution_count": 27,
   "id": "bc303acd",
   "metadata": {},
   "outputs": [],
   "source": [
    "def fetchdirector(obj):\n",
    "    l=[]\n",
    "   \n",
    "    for i in eval(obj):\n",
    "       if i['job']=='Director':\n",
    "        l.append(i['name'])\n",
    "       \n",
    "    return l    "
   ]
  },
  {
   "cell_type": "code",
   "execution_count": 28,
   "id": "47c468a6",
   "metadata": {},
   "outputs": [],
   "source": [
    "movies['crew']=movies['crew'].apply(fetchdirector)"
   ]
  },
  {
   "cell_type": "code",
   "execution_count": 29,
   "id": "ea0b6582",
   "metadata": {},
   "outputs": [
    {
     "data": {
      "text/html": [
       "<div>\n",
       "<style scoped>\n",
       "    .dataframe tbody tr th:only-of-type {\n",
       "        vertical-align: middle;\n",
       "    }\n",
       "\n",
       "    .dataframe tbody tr th {\n",
       "        vertical-align: top;\n",
       "    }\n",
       "\n",
       "    .dataframe thead th {\n",
       "        text-align: right;\n",
       "    }\n",
       "</style>\n",
       "<table border=\"1\" class=\"dataframe\">\n",
       "  <thead>\n",
       "    <tr style=\"text-align: right;\">\n",
       "      <th></th>\n",
       "      <th>movie_id</th>\n",
       "      <th>title</th>\n",
       "      <th>overview</th>\n",
       "      <th>genres</th>\n",
       "      <th>keywords</th>\n",
       "      <th>cast</th>\n",
       "      <th>crew</th>\n",
       "    </tr>\n",
       "  </thead>\n",
       "  <tbody>\n",
       "    <tr>\n",
       "      <th>0</th>\n",
       "      <td>19995</td>\n",
       "      <td>Avatar</td>\n",
       "      <td>In the 22nd century, a paraplegic Marine is di...</td>\n",
       "      <td>[Action, Adventure, Fantasy, Science Fiction]</td>\n",
       "      <td>[culture clash, future, space war, space colon...</td>\n",
       "      <td>[Sam Worthington, Zoe Saldana, Sigourney Weaver]</td>\n",
       "      <td>[James Cameron]</td>\n",
       "    </tr>\n",
       "    <tr>\n",
       "      <th>1</th>\n",
       "      <td>285</td>\n",
       "      <td>Pirates of the Caribbean: At World's End</td>\n",
       "      <td>Captain Barbossa, long believed to be dead, ha...</td>\n",
       "      <td>[Adventure, Fantasy, Action]</td>\n",
       "      <td>[ocean, drug abuse, exotic island, east india ...</td>\n",
       "      <td>[Johnny Depp, Orlando Bloom, Keira Knightley]</td>\n",
       "      <td>[Gore Verbinski]</td>\n",
       "    </tr>\n",
       "    <tr>\n",
       "      <th>2</th>\n",
       "      <td>206647</td>\n",
       "      <td>Spectre</td>\n",
       "      <td>A cryptic message from Bond’s past sends him o...</td>\n",
       "      <td>[Action, Adventure, Crime]</td>\n",
       "      <td>[spy, based on novel, secret agent, sequel, mi...</td>\n",
       "      <td>[Daniel Craig, Christoph Waltz, Léa Seydoux]</td>\n",
       "      <td>[Sam Mendes]</td>\n",
       "    </tr>\n",
       "    <tr>\n",
       "      <th>3</th>\n",
       "      <td>49026</td>\n",
       "      <td>The Dark Knight Rises</td>\n",
       "      <td>Following the death of District Attorney Harve...</td>\n",
       "      <td>[Action, Crime, Drama, Thriller]</td>\n",
       "      <td>[dc comics, crime fighter, terrorist, secret i...</td>\n",
       "      <td>[Christian Bale, Michael Caine, Gary Oldman]</td>\n",
       "      <td>[Christopher Nolan]</td>\n",
       "    </tr>\n",
       "    <tr>\n",
       "      <th>4</th>\n",
       "      <td>49529</td>\n",
       "      <td>John Carter</td>\n",
       "      <td>John Carter is a war-weary, former military ca...</td>\n",
       "      <td>[Action, Adventure, Science Fiction]</td>\n",
       "      <td>[based on novel, mars, medallion, space travel...</td>\n",
       "      <td>[Taylor Kitsch, Lynn Collins, Samantha Morton]</td>\n",
       "      <td>[Andrew Stanton]</td>\n",
       "    </tr>\n",
       "  </tbody>\n",
       "</table>\n",
       "</div>"
      ],
      "text/plain": [
       "   movie_id                                     title  \\\n",
       "0     19995                                    Avatar   \n",
       "1       285  Pirates of the Caribbean: At World's End   \n",
       "2    206647                                   Spectre   \n",
       "3     49026                     The Dark Knight Rises   \n",
       "4     49529                               John Carter   \n",
       "\n",
       "                                            overview  \\\n",
       "0  In the 22nd century, a paraplegic Marine is di...   \n",
       "1  Captain Barbossa, long believed to be dead, ha...   \n",
       "2  A cryptic message from Bond’s past sends him o...   \n",
       "3  Following the death of District Attorney Harve...   \n",
       "4  John Carter is a war-weary, former military ca...   \n",
       "\n",
       "                                          genres  \\\n",
       "0  [Action, Adventure, Fantasy, Science Fiction]   \n",
       "1                   [Adventure, Fantasy, Action]   \n",
       "2                     [Action, Adventure, Crime]   \n",
       "3               [Action, Crime, Drama, Thriller]   \n",
       "4           [Action, Adventure, Science Fiction]   \n",
       "\n",
       "                                            keywords  \\\n",
       "0  [culture clash, future, space war, space colon...   \n",
       "1  [ocean, drug abuse, exotic island, east india ...   \n",
       "2  [spy, based on novel, secret agent, sequel, mi...   \n",
       "3  [dc comics, crime fighter, terrorist, secret i...   \n",
       "4  [based on novel, mars, medallion, space travel...   \n",
       "\n",
       "                                               cast                 crew  \n",
       "0  [Sam Worthington, Zoe Saldana, Sigourney Weaver]      [James Cameron]  \n",
       "1     [Johnny Depp, Orlando Bloom, Keira Knightley]     [Gore Verbinski]  \n",
       "2      [Daniel Craig, Christoph Waltz, Léa Seydoux]         [Sam Mendes]  \n",
       "3      [Christian Bale, Michael Caine, Gary Oldman]  [Christopher Nolan]  \n",
       "4    [Taylor Kitsch, Lynn Collins, Samantha Morton]     [Andrew Stanton]  "
      ]
     },
     "execution_count": 29,
     "metadata": {},
     "output_type": "execute_result"
    }
   ],
   "source": [
    "movies.head()"
   ]
  },
  {
   "cell_type": "code",
   "execution_count": 30,
   "id": "cff9d023",
   "metadata": {},
   "outputs": [
    {
     "data": {
      "text/plain": [
       "'In the 22nd century, a paraplegic Marine is dispatched to the moon Pandora on a unique mission, but becomes torn between following orders and protecting an alien civilization.'"
      ]
     },
     "execution_count": 30,
     "metadata": {},
     "output_type": "execute_result"
    }
   ],
   "source": [
    "movies['overview'][0]"
   ]
  },
  {
   "cell_type": "code",
   "execution_count": 31,
   "id": "457a9feb",
   "metadata": {},
   "outputs": [],
   "source": [
    "movies['overview'] = movies['overview'].apply(lambda x:x.split())"
   ]
  },
  {
   "cell_type": "code",
   "execution_count": 32,
   "id": "21138b5c",
   "metadata": {},
   "outputs": [
    {
     "data": {
      "text/html": [
       "<div>\n",
       "<style scoped>\n",
       "    .dataframe tbody tr th:only-of-type {\n",
       "        vertical-align: middle;\n",
       "    }\n",
       "\n",
       "    .dataframe tbody tr th {\n",
       "        vertical-align: top;\n",
       "    }\n",
       "\n",
       "    .dataframe thead th {\n",
       "        text-align: right;\n",
       "    }\n",
       "</style>\n",
       "<table border=\"1\" class=\"dataframe\">\n",
       "  <thead>\n",
       "    <tr style=\"text-align: right;\">\n",
       "      <th></th>\n",
       "      <th>movie_id</th>\n",
       "      <th>title</th>\n",
       "      <th>overview</th>\n",
       "      <th>genres</th>\n",
       "      <th>keywords</th>\n",
       "      <th>cast</th>\n",
       "      <th>crew</th>\n",
       "    </tr>\n",
       "  </thead>\n",
       "  <tbody>\n",
       "    <tr>\n",
       "      <th>0</th>\n",
       "      <td>19995</td>\n",
       "      <td>Avatar</td>\n",
       "      <td>[In, the, 22nd, century,, a, paraplegic, Marin...</td>\n",
       "      <td>[Action, Adventure, Fantasy, Science Fiction]</td>\n",
       "      <td>[culture clash, future, space war, space colon...</td>\n",
       "      <td>[Sam Worthington, Zoe Saldana, Sigourney Weaver]</td>\n",
       "      <td>[James Cameron]</td>\n",
       "    </tr>\n",
       "    <tr>\n",
       "      <th>1</th>\n",
       "      <td>285</td>\n",
       "      <td>Pirates of the Caribbean: At World's End</td>\n",
       "      <td>[Captain, Barbossa,, long, believed, to, be, d...</td>\n",
       "      <td>[Adventure, Fantasy, Action]</td>\n",
       "      <td>[ocean, drug abuse, exotic island, east india ...</td>\n",
       "      <td>[Johnny Depp, Orlando Bloom, Keira Knightley]</td>\n",
       "      <td>[Gore Verbinski]</td>\n",
       "    </tr>\n",
       "    <tr>\n",
       "      <th>2</th>\n",
       "      <td>206647</td>\n",
       "      <td>Spectre</td>\n",
       "      <td>[A, cryptic, message, from, Bond’s, past, send...</td>\n",
       "      <td>[Action, Adventure, Crime]</td>\n",
       "      <td>[spy, based on novel, secret agent, sequel, mi...</td>\n",
       "      <td>[Daniel Craig, Christoph Waltz, Léa Seydoux]</td>\n",
       "      <td>[Sam Mendes]</td>\n",
       "    </tr>\n",
       "    <tr>\n",
       "      <th>3</th>\n",
       "      <td>49026</td>\n",
       "      <td>The Dark Knight Rises</td>\n",
       "      <td>[Following, the, death, of, District, Attorney...</td>\n",
       "      <td>[Action, Crime, Drama, Thriller]</td>\n",
       "      <td>[dc comics, crime fighter, terrorist, secret i...</td>\n",
       "      <td>[Christian Bale, Michael Caine, Gary Oldman]</td>\n",
       "      <td>[Christopher Nolan]</td>\n",
       "    </tr>\n",
       "    <tr>\n",
       "      <th>4</th>\n",
       "      <td>49529</td>\n",
       "      <td>John Carter</td>\n",
       "      <td>[John, Carter, is, a, war-weary,, former, mili...</td>\n",
       "      <td>[Action, Adventure, Science Fiction]</td>\n",
       "      <td>[based on novel, mars, medallion, space travel...</td>\n",
       "      <td>[Taylor Kitsch, Lynn Collins, Samantha Morton]</td>\n",
       "      <td>[Andrew Stanton]</td>\n",
       "    </tr>\n",
       "  </tbody>\n",
       "</table>\n",
       "</div>"
      ],
      "text/plain": [
       "   movie_id                                     title  \\\n",
       "0     19995                                    Avatar   \n",
       "1       285  Pirates of the Caribbean: At World's End   \n",
       "2    206647                                   Spectre   \n",
       "3     49026                     The Dark Knight Rises   \n",
       "4     49529                               John Carter   \n",
       "\n",
       "                                            overview  \\\n",
       "0  [In, the, 22nd, century,, a, paraplegic, Marin...   \n",
       "1  [Captain, Barbossa,, long, believed, to, be, d...   \n",
       "2  [A, cryptic, message, from, Bond’s, past, send...   \n",
       "3  [Following, the, death, of, District, Attorney...   \n",
       "4  [John, Carter, is, a, war-weary,, former, mili...   \n",
       "\n",
       "                                          genres  \\\n",
       "0  [Action, Adventure, Fantasy, Science Fiction]   \n",
       "1                   [Adventure, Fantasy, Action]   \n",
       "2                     [Action, Adventure, Crime]   \n",
       "3               [Action, Crime, Drama, Thriller]   \n",
       "4           [Action, Adventure, Science Fiction]   \n",
       "\n",
       "                                            keywords  \\\n",
       "0  [culture clash, future, space war, space colon...   \n",
       "1  [ocean, drug abuse, exotic island, east india ...   \n",
       "2  [spy, based on novel, secret agent, sequel, mi...   \n",
       "3  [dc comics, crime fighter, terrorist, secret i...   \n",
       "4  [based on novel, mars, medallion, space travel...   \n",
       "\n",
       "                                               cast                 crew  \n",
       "0  [Sam Worthington, Zoe Saldana, Sigourney Weaver]      [James Cameron]  \n",
       "1     [Johnny Depp, Orlando Bloom, Keira Knightley]     [Gore Verbinski]  \n",
       "2      [Daniel Craig, Christoph Waltz, Léa Seydoux]         [Sam Mendes]  \n",
       "3      [Christian Bale, Michael Caine, Gary Oldman]  [Christopher Nolan]  \n",
       "4    [Taylor Kitsch, Lynn Collins, Samantha Morton]     [Andrew Stanton]  "
      ]
     },
     "execution_count": 32,
     "metadata": {},
     "output_type": "execute_result"
    }
   ],
   "source": [
    "movies.head()"
   ]
  },
  {
   "cell_type": "code",
   "execution_count": 33,
   "id": "2575aeb5",
   "metadata": {},
   "outputs": [],
   "source": [
    "#we have to remove spaces\n",
    "# \"samworthington\"\n",
    "# \"sam worthington\""
   ]
  },
  {
   "cell_type": "code",
   "execution_count": 34,
   "id": "118e8a78",
   "metadata": {},
   "outputs": [],
   "source": [
    "def collapse(L):\n",
    "    L1 = []\n",
    "    for i in L:\n",
    "        L1.append(i.replace(\" \",\"\"))\n",
    "    return L1"
   ]
  },
  {
   "cell_type": "code",
   "execution_count": 35,
   "id": "fff3d889",
   "metadata": {},
   "outputs": [],
   "source": [
    "\n",
    "movies['cast'] = movies['cast'].apply(collapse)\n",
    "movies['crew'] = movies['crew'].apply(collapse)\n",
    "movies['genres'] = movies['genres'].apply(collapse)\n",
    "movies['keywords'] = movies['keywords'].apply(collapse)"
   ]
  },
  {
   "cell_type": "code",
   "execution_count": 36,
   "id": "638b4603",
   "metadata": {},
   "outputs": [
    {
     "data": {
      "text/html": [
       "<div>\n",
       "<style scoped>\n",
       "    .dataframe tbody tr th:only-of-type {\n",
       "        vertical-align: middle;\n",
       "    }\n",
       "\n",
       "    .dataframe tbody tr th {\n",
       "        vertical-align: top;\n",
       "    }\n",
       "\n",
       "    .dataframe thead th {\n",
       "        text-align: right;\n",
       "    }\n",
       "</style>\n",
       "<table border=\"1\" class=\"dataframe\">\n",
       "  <thead>\n",
       "    <tr style=\"text-align: right;\">\n",
       "      <th></th>\n",
       "      <th>movie_id</th>\n",
       "      <th>title</th>\n",
       "      <th>overview</th>\n",
       "      <th>genres</th>\n",
       "      <th>keywords</th>\n",
       "      <th>cast</th>\n",
       "      <th>crew</th>\n",
       "    </tr>\n",
       "  </thead>\n",
       "  <tbody>\n",
       "    <tr>\n",
       "      <th>0</th>\n",
       "      <td>19995</td>\n",
       "      <td>Avatar</td>\n",
       "      <td>[In, the, 22nd, century,, a, paraplegic, Marin...</td>\n",
       "      <td>[Action, Adventure, Fantasy, ScienceFiction]</td>\n",
       "      <td>[cultureclash, future, spacewar, spacecolony, ...</td>\n",
       "      <td>[SamWorthington, ZoeSaldana, SigourneyWeaver]</td>\n",
       "      <td>[JamesCameron]</td>\n",
       "    </tr>\n",
       "    <tr>\n",
       "      <th>1</th>\n",
       "      <td>285</td>\n",
       "      <td>Pirates of the Caribbean: At World's End</td>\n",
       "      <td>[Captain, Barbossa,, long, believed, to, be, d...</td>\n",
       "      <td>[Adventure, Fantasy, Action]</td>\n",
       "      <td>[ocean, drugabuse, exoticisland, eastindiatrad...</td>\n",
       "      <td>[JohnnyDepp, OrlandoBloom, KeiraKnightley]</td>\n",
       "      <td>[GoreVerbinski]</td>\n",
       "    </tr>\n",
       "    <tr>\n",
       "      <th>2</th>\n",
       "      <td>206647</td>\n",
       "      <td>Spectre</td>\n",
       "      <td>[A, cryptic, message, from, Bond’s, past, send...</td>\n",
       "      <td>[Action, Adventure, Crime]</td>\n",
       "      <td>[spy, basedonnovel, secretagent, sequel, mi6, ...</td>\n",
       "      <td>[DanielCraig, ChristophWaltz, LéaSeydoux]</td>\n",
       "      <td>[SamMendes]</td>\n",
       "    </tr>\n",
       "    <tr>\n",
       "      <th>3</th>\n",
       "      <td>49026</td>\n",
       "      <td>The Dark Knight Rises</td>\n",
       "      <td>[Following, the, death, of, District, Attorney...</td>\n",
       "      <td>[Action, Crime, Drama, Thriller]</td>\n",
       "      <td>[dccomics, crimefighter, terrorist, secretiden...</td>\n",
       "      <td>[ChristianBale, MichaelCaine, GaryOldman]</td>\n",
       "      <td>[ChristopherNolan]</td>\n",
       "    </tr>\n",
       "    <tr>\n",
       "      <th>4</th>\n",
       "      <td>49529</td>\n",
       "      <td>John Carter</td>\n",
       "      <td>[John, Carter, is, a, war-weary,, former, mili...</td>\n",
       "      <td>[Action, Adventure, ScienceFiction]</td>\n",
       "      <td>[basedonnovel, mars, medallion, spacetravel, p...</td>\n",
       "      <td>[TaylorKitsch, LynnCollins, SamanthaMorton]</td>\n",
       "      <td>[AndrewStanton]</td>\n",
       "    </tr>\n",
       "  </tbody>\n",
       "</table>\n",
       "</div>"
      ],
      "text/plain": [
       "   movie_id                                     title  \\\n",
       "0     19995                                    Avatar   \n",
       "1       285  Pirates of the Caribbean: At World's End   \n",
       "2    206647                                   Spectre   \n",
       "3     49026                     The Dark Knight Rises   \n",
       "4     49529                               John Carter   \n",
       "\n",
       "                                            overview  \\\n",
       "0  [In, the, 22nd, century,, a, paraplegic, Marin...   \n",
       "1  [Captain, Barbossa,, long, believed, to, be, d...   \n",
       "2  [A, cryptic, message, from, Bond’s, past, send...   \n",
       "3  [Following, the, death, of, District, Attorney...   \n",
       "4  [John, Carter, is, a, war-weary,, former, mili...   \n",
       "\n",
       "                                         genres  \\\n",
       "0  [Action, Adventure, Fantasy, ScienceFiction]   \n",
       "1                  [Adventure, Fantasy, Action]   \n",
       "2                    [Action, Adventure, Crime]   \n",
       "3              [Action, Crime, Drama, Thriller]   \n",
       "4           [Action, Adventure, ScienceFiction]   \n",
       "\n",
       "                                            keywords  \\\n",
       "0  [cultureclash, future, spacewar, spacecolony, ...   \n",
       "1  [ocean, drugabuse, exoticisland, eastindiatrad...   \n",
       "2  [spy, basedonnovel, secretagent, sequel, mi6, ...   \n",
       "3  [dccomics, crimefighter, terrorist, secretiden...   \n",
       "4  [basedonnovel, mars, medallion, spacetravel, p...   \n",
       "\n",
       "                                            cast                crew  \n",
       "0  [SamWorthington, ZoeSaldana, SigourneyWeaver]      [JamesCameron]  \n",
       "1     [JohnnyDepp, OrlandoBloom, KeiraKnightley]     [GoreVerbinski]  \n",
       "2      [DanielCraig, ChristophWaltz, LéaSeydoux]         [SamMendes]  \n",
       "3      [ChristianBale, MichaelCaine, GaryOldman]  [ChristopherNolan]  \n",
       "4    [TaylorKitsch, LynnCollins, SamanthaMorton]     [AndrewStanton]  "
      ]
     },
     "execution_count": 36,
     "metadata": {},
     "output_type": "execute_result"
    }
   ],
   "source": [
    "movies.head()"
   ]
  },
  {
   "cell_type": "code",
   "execution_count": 37,
   "id": "61f40918",
   "metadata": {},
   "outputs": [],
   "source": [
    "movies['tags']=movies['overview']+movies['genres']+movies['keywords']+movies['cast']+movies['crew']"
   ]
  },
  {
   "cell_type": "code",
   "execution_count": 38,
   "id": "fa1629f2",
   "metadata": {},
   "outputs": [],
   "source": [
    "new_df=movies[['movie_id','title','tags']]"
   ]
  },
  {
   "cell_type": "code",
   "execution_count": 39,
   "id": "4d635e7d",
   "metadata": {},
   "outputs": [
    {
     "data": {
      "text/html": [
       "<div>\n",
       "<style scoped>\n",
       "    .dataframe tbody tr th:only-of-type {\n",
       "        vertical-align: middle;\n",
       "    }\n",
       "\n",
       "    .dataframe tbody tr th {\n",
       "        vertical-align: top;\n",
       "    }\n",
       "\n",
       "    .dataframe thead th {\n",
       "        text-align: right;\n",
       "    }\n",
       "</style>\n",
       "<table border=\"1\" class=\"dataframe\">\n",
       "  <thead>\n",
       "    <tr style=\"text-align: right;\">\n",
       "      <th></th>\n",
       "      <th>movie_id</th>\n",
       "      <th>title</th>\n",
       "      <th>tags</th>\n",
       "    </tr>\n",
       "  </thead>\n",
       "  <tbody>\n",
       "    <tr>\n",
       "      <th>0</th>\n",
       "      <td>19995</td>\n",
       "      <td>Avatar</td>\n",
       "      <td>[In, the, 22nd, century,, a, paraplegic, Marin...</td>\n",
       "    </tr>\n",
       "    <tr>\n",
       "      <th>1</th>\n",
       "      <td>285</td>\n",
       "      <td>Pirates of the Caribbean: At World's End</td>\n",
       "      <td>[Captain, Barbossa,, long, believed, to, be, d...</td>\n",
       "    </tr>\n",
       "    <tr>\n",
       "      <th>2</th>\n",
       "      <td>206647</td>\n",
       "      <td>Spectre</td>\n",
       "      <td>[A, cryptic, message, from, Bond’s, past, send...</td>\n",
       "    </tr>\n",
       "    <tr>\n",
       "      <th>3</th>\n",
       "      <td>49026</td>\n",
       "      <td>The Dark Knight Rises</td>\n",
       "      <td>[Following, the, death, of, District, Attorney...</td>\n",
       "    </tr>\n",
       "    <tr>\n",
       "      <th>4</th>\n",
       "      <td>49529</td>\n",
       "      <td>John Carter</td>\n",
       "      <td>[John, Carter, is, a, war-weary,, former, mili...</td>\n",
       "    </tr>\n",
       "  </tbody>\n",
       "</table>\n",
       "</div>"
      ],
      "text/plain": [
       "   movie_id                                     title  \\\n",
       "0     19995                                    Avatar   \n",
       "1       285  Pirates of the Caribbean: At World's End   \n",
       "2    206647                                   Spectre   \n",
       "3     49026                     The Dark Knight Rises   \n",
       "4     49529                               John Carter   \n",
       "\n",
       "                                                tags  \n",
       "0  [In, the, 22nd, century,, a, paraplegic, Marin...  \n",
       "1  [Captain, Barbossa,, long, believed, to, be, d...  \n",
       "2  [A, cryptic, message, from, Bond’s, past, send...  \n",
       "3  [Following, the, death, of, District, Attorney...  \n",
       "4  [John, Carter, is, a, war-weary,, former, mili...  "
      ]
     },
     "execution_count": 39,
     "metadata": {},
     "output_type": "execute_result"
    }
   ],
   "source": [
    "new_df.head()"
   ]
  },
  {
   "cell_type": "code",
   "execution_count": 40,
   "id": "5efb4411",
   "metadata": {},
   "outputs": [
    {
     "name": "stderr",
     "output_type": "stream",
     "text": [
      "C:\\Users\\Vaibhav\\AppData\\Local\\Temp\\ipykernel_13244\\487797088.py:1: SettingWithCopyWarning: \n",
      "A value is trying to be set on a copy of a slice from a DataFrame.\n",
      "Try using .loc[row_indexer,col_indexer] = value instead\n",
      "\n",
      "See the caveats in the documentation: https://pandas.pydata.org/pandas-docs/stable/user_guide/indexing.html#returning-a-view-versus-a-copy\n",
      "  new_df['tags']=new_df['tags'].apply(lambda x:\" \".join(x))\n"
     ]
    }
   ],
   "source": [
    "new_df['tags']=new_df['tags'].apply(lambda x:\" \".join(x))"
   ]
  },
  {
   "cell_type": "code",
   "execution_count": 41,
   "id": "f2953497",
   "metadata": {},
   "outputs": [
    {
     "data": {
      "text/html": [
       "<div>\n",
       "<style scoped>\n",
       "    .dataframe tbody tr th:only-of-type {\n",
       "        vertical-align: middle;\n",
       "    }\n",
       "\n",
       "    .dataframe tbody tr th {\n",
       "        vertical-align: top;\n",
       "    }\n",
       "\n",
       "    .dataframe thead th {\n",
       "        text-align: right;\n",
       "    }\n",
       "</style>\n",
       "<table border=\"1\" class=\"dataframe\">\n",
       "  <thead>\n",
       "    <tr style=\"text-align: right;\">\n",
       "      <th></th>\n",
       "      <th>movie_id</th>\n",
       "      <th>title</th>\n",
       "      <th>tags</th>\n",
       "    </tr>\n",
       "  </thead>\n",
       "  <tbody>\n",
       "    <tr>\n",
       "      <th>0</th>\n",
       "      <td>19995</td>\n",
       "      <td>Avatar</td>\n",
       "      <td>In the 22nd century, a paraplegic Marine is di...</td>\n",
       "    </tr>\n",
       "    <tr>\n",
       "      <th>1</th>\n",
       "      <td>285</td>\n",
       "      <td>Pirates of the Caribbean: At World's End</td>\n",
       "      <td>Captain Barbossa, long believed to be dead, ha...</td>\n",
       "    </tr>\n",
       "    <tr>\n",
       "      <th>2</th>\n",
       "      <td>206647</td>\n",
       "      <td>Spectre</td>\n",
       "      <td>A cryptic message from Bond’s past sends him o...</td>\n",
       "    </tr>\n",
       "    <tr>\n",
       "      <th>3</th>\n",
       "      <td>49026</td>\n",
       "      <td>The Dark Knight Rises</td>\n",
       "      <td>Following the death of District Attorney Harve...</td>\n",
       "    </tr>\n",
       "    <tr>\n",
       "      <th>4</th>\n",
       "      <td>49529</td>\n",
       "      <td>John Carter</td>\n",
       "      <td>John Carter is a war-weary, former military ca...</td>\n",
       "    </tr>\n",
       "  </tbody>\n",
       "</table>\n",
       "</div>"
      ],
      "text/plain": [
       "   movie_id                                     title  \\\n",
       "0     19995                                    Avatar   \n",
       "1       285  Pirates of the Caribbean: At World's End   \n",
       "2    206647                                   Spectre   \n",
       "3     49026                     The Dark Knight Rises   \n",
       "4     49529                               John Carter   \n",
       "\n",
       "                                                tags  \n",
       "0  In the 22nd century, a paraplegic Marine is di...  \n",
       "1  Captain Barbossa, long believed to be dead, ha...  \n",
       "2  A cryptic message from Bond’s past sends him o...  \n",
       "3  Following the death of District Attorney Harve...  \n",
       "4  John Carter is a war-weary, former military ca...  "
      ]
     },
     "execution_count": 41,
     "metadata": {},
     "output_type": "execute_result"
    }
   ],
   "source": [
    "new_df.head()"
   ]
  },
  {
   "cell_type": "code",
   "execution_count": 42,
   "id": "c509c9b9",
   "metadata": {},
   "outputs": [
    {
     "data": {
      "text/plain": [
       "'In the 22nd century, a paraplegic Marine is dispatched to the moon Pandora on a unique mission, but becomes torn between following orders and protecting an alien civilization. Action Adventure Fantasy ScienceFiction cultureclash future spacewar spacecolony society spacetravel futuristic romance space alien tribe alienplanet cgi marine soldier battle loveaffair antiwar powerrelations mindandsoul 3d SamWorthington ZoeSaldana SigourneyWeaver JamesCameron'"
      ]
     },
     "execution_count": 42,
     "metadata": {},
     "output_type": "execute_result"
    }
   ],
   "source": [
    "new_df['tags'][0]"
   ]
  },
  {
   "cell_type": "code",
   "execution_count": 43,
   "id": "9c61490f",
   "metadata": {},
   "outputs": [
    {
     "name": "stderr",
     "output_type": "stream",
     "text": [
      "C:\\Users\\Vaibhav\\AppData\\Local\\Temp\\ipykernel_13244\\4224080999.py:1: SettingWithCopyWarning: \n",
      "A value is trying to be set on a copy of a slice from a DataFrame.\n",
      "Try using .loc[row_indexer,col_indexer] = value instead\n",
      "\n",
      "See the caveats in the documentation: https://pandas.pydata.org/pandas-docs/stable/user_guide/indexing.html#returning-a-view-versus-a-copy\n",
      "  new_df['tags']=new_df['tags'].apply(lambda x:x.lower())\n"
     ]
    }
   ],
   "source": [
    "new_df['tags']=new_df['tags'].apply(lambda x:x.lower())"
   ]
  },
  {
   "cell_type": "code",
   "execution_count": 44,
   "id": "9a030d3e",
   "metadata": {},
   "outputs": [
    {
     "data": {
      "text/plain": [
       "'in the 22nd century, a paraplegic marine is dispatched to the moon pandora on a unique mission, but becomes torn between following orders and protecting an alien civilization. action adventure fantasy sciencefiction cultureclash future spacewar spacecolony society spacetravel futuristic romance space alien tribe alienplanet cgi marine soldier battle loveaffair antiwar powerrelations mindandsoul 3d samworthington zoesaldana sigourneyweaver jamescameron'"
      ]
     },
     "execution_count": 44,
     "metadata": {},
     "output_type": "execute_result"
    }
   ],
   "source": [
    "new_df['tags'][0]"
   ]
  },
  {
   "cell_type": "code",
   "execution_count": 45,
   "id": "a97246ac",
   "metadata": {},
   "outputs": [],
   "source": [
    "#vectorization-bag of words,alternative-tfidf and disregard stopwords\n",
    "from sklearn.feature_extraction.text import CountVectorizer\n"
   ]
  },
  {
   "cell_type": "code",
   "execution_count": 46,
   "id": "f0cdcab0",
   "metadata": {},
   "outputs": [],
   "source": [
    "cv=CountVectorizer(max_features=5000,stop_words='english')"
   ]
  },
  {
   "cell_type": "code",
   "execution_count": 47,
   "id": "1f38ade1",
   "metadata": {},
   "outputs": [],
   "source": [
    "vectors=cv.fit_transform(new_df['tags']).toarray()"
   ]
  },
  {
   "cell_type": "code",
   "execution_count": 48,
   "id": "65ef068c",
   "metadata": {},
   "outputs": [
    {
     "data": {
      "text/plain": [
       "array([[0, 0, 0, ..., 0, 0, 0],\n",
       "       [0, 0, 0, ..., 0, 0, 0],\n",
       "       [0, 0, 0, ..., 0, 0, 0],\n",
       "       ...,\n",
       "       [0, 0, 0, ..., 0, 0, 0],\n",
       "       [0, 0, 0, ..., 0, 0, 0],\n",
       "       [0, 0, 0, ..., 0, 0, 0]], dtype=int64)"
      ]
     },
     "execution_count": 48,
     "metadata": {},
     "output_type": "execute_result"
    }
   ],
   "source": [
    "vectors"
   ]
  },
  {
   "cell_type": "code",
   "execution_count": 49,
   "id": "0b74e673",
   "metadata": {},
   "outputs": [
    {
     "data": {
      "text/plain": [
       "array([0, 0, 0, ..., 0, 0, 0], dtype=int64)"
      ]
     },
     "execution_count": 49,
     "metadata": {},
     "output_type": "execute_result"
    }
   ],
   "source": [
    "vectors[0]"
   ]
  },
  {
   "cell_type": "code",
   "execution_count": 50,
   "id": "b3cf0ed4",
   "metadata": {},
   "outputs": [
    {
     "data": {
      "text/plain": [
       "dict_keys(['century', 'marine', 'dispatched', 'moon', 'unique', 'mission', 'torn', 'following', 'orders', 'protecting', 'alien', 'civilization', 'action', 'adventure', 'fantasy', 'sciencefiction', 'cultureclash', 'future', 'society', 'spacetravel', 'futuristic', 'romance', 'space', 'tribe', 'soldier', 'battle', '3d', 'zoesaldana', 'sigourneyweaver', 'captain', 'long', 'believed', 'dead', 'come', 'life', 'headed', 'edge', 'earth', 'turner', 'elizabeth', 'quite', 'ocean', 'drugabuse', 'exoticisland', 'loveofone', 'slife', 'traitor', 'shipwreck', 'ship', 'alliance', 'afterlife', 'fighter', 'pirate', 'aftercreditsstinger', 'johnnydepp', 'orlandobloom', 'keiraknightley', 'goreverbinski', 'message', 'bond', 'past', 'sends', 'trail', 'uncover', 'sinister', 'organization', 'battles', 'political', 'forces', 'secret', 'service', 'alive', 'deceit', 'reveal', 'terrible', 'truth', 'crime', 'spy', 'basedonnovel', 'secretagent', 'sequel', 'britishsecretservice', 'danielcraig', 'christophwaltz', 'death', 'district', 'attorney', 'harvey', 'batman', 'assumes', 'responsibility', 'crimes', 'protect', 'late', 'reputation', 'hunted', 'gotham', 'city', 'police', 'department', 'years', 'later', 'encounters', 'mysterious', 'kyle', 'villainous', 'new', 'terrorist', 'leader', 'dark', 'knight', 'enemy', 'drama', 'thriller', 'dccomics', 'crimefighter', 'secretidentity', 'burglar', 'gothamcity', 'vigilante', 'cover', 'superhero', 'terrorism', 'destruction', 'imax', 'flood', 'christianbale', 'michaelcaine', 'garyoldman', 'christophernolan', 'john', 'carter', 'war', 'military', 'transported', 'exotic', 'planet', 'mars', 'reluctantly', 'embroiled', 'epic', 'conflict', 'world', 'brink', 'collapse', 'humanity', 'realizes', 'survival', 'people', 'hands', 'princess', 'steampunk', 'martian', 'escape', 'superhumanstrength', '19thcentury', 'samanthamorton', 'seemingly', 'spider', 'man', 'goes', 'villain', 'including', 'shape', 'superpowers', 'alter', 'ego', 'peter', 'parker', 'deals', 'nemesis', 'eddie', 'gets', 'caught', 'love', 'triangle', 'dualidentity', 'amnesia', 'forgiveness', 'wretch', 'deathofafriend', 'hostility', 'marvelcomic', 'revenge', 'tobeymaguire', 'kirstendunst', 'jamesfranco', 'samraimi', 'kingdom', 'wanted', 'charming', 'taken', 'hostage', 'beautiful', 'bound', 'teen', '70', 'feet', 'magical', 'golden', 'hair', 'curious', 'looking', 'ticket', 'locked', 'away', 'strikes', 'deal', 'handsome', 'thief', 'unlikely', 'duo', 'sets', 'packed', 'escapade', 'complete', 'super', 'cop', 'horse', 'gang', 'thugs', 'animation', 'family', 'magic', 'fairytale', 'musical', 'duringcreditsstinger', 'mandymoore', 'tony', 'stark', 'tries', 'program', 'things', 'awry', 'heroes', 'ultimate', 'test', 'fate', 'hangs', 'balance', 'emerges', 'stop', 'plans', 'soon', 'unexpected', 'way', 'global', 'basedoncomicbook', 'vision', 'marvelcinematicuniverse', 'robertdowneyjr', 'chrishemsworth', 'markruffalo', 'harry', 'begins', 'year', 'discovers', 'old', 'book', 'marked', 'property', 'half', 'blood', 'prince', 'learn', 'lord', 'witch', 'teenagecrush', 'werewolf', 'danielradcliffe', 'rupertgrint', 'emmawatson', 'actions', 'god', 'like', 'hero', 'left', 'formidable', 'takes', 'modern', 'day', 'sort', 'really', 'needs', 'superman', 'threat', 'quickly', 'putting', 'mankind', 'greater', 'danger', 'known', 'benaffleck', 'returns', 'discover', 'walk', 'free', 'abandoned', 'moved', 'plots', 'millions', 'killed', 'change', 'face', 'forever', 'steel', 'savingtheworld', 'kevinspacey', 'katebosworth', 'bryansinger', 'continues', 'adventures', 'james', 'casino', 'betrayed', 'woman', 'loved', '007', 'fights', 'make', 'latest', 'personal', 'pursuing', 'determination', 'mr', 'white', 'reveals', 'far', 'complex', 'dangerous', 'imagined', 'killing', 'undercover', 'marcforster', 'jack', 'works', 'debt', 'jones', 'attempts', 'avoid', 'eternal', 'fortuneteller', 'monster', 'daughter', 'texas', 'rangers', 'chase', 'led', 'survivor', 'american', 'indian', 'named', 'health', 'ranger', 'mask', 'riding', 'silver', 'teams', 'bring', 'justice', 'western', 'partner', 'outlaw', 'lawyer', 'train', 'young', 'boy', 'learns', 'extraordinary', 'powers', 'journeys', 'came', 'sent', 'emerge', 'save', 'symbol', 'hope', 'superhuman', 'alieninvasion', 'reboot', 'amyadams', 'michaelshannon', 'incredible', 'lion', 'lucy', 'susan', 'return', 'aid', 'threatened', 'evil', 'king', 'help', 'colorful', 'cast', 'characters', 'clan', 'embarks', 'quest', 'ensure', 'returned', 'heir', 'fictionalplace', 'brothersisterrelationship', 'faith', 'uncle', 'fantasyworld', 'threatens', 'safety', 'security', 'nick', 'director', 'international', 'agency', 'finds', 'need', 'team', 'pull', 'disaster', 'spanning', 'globe', 'daring', 'effort', 'newyork', 'chrisevans', 'crosses', 'paths', 'sure', 'ruthless', 'artist', 'using', 'youth', 'aboard', 'queen', 'anne', 'doesn', 'know', 'fear', 'sea', 'mutiny', 'sword', 'sailing', 'duke', 'mermaid', 'penélopecruz', 'agents', 'smith', 'tommy', 'lee', 'time', 'seen', '15', 'men', 'black', 'aliens', 'stake', 'agent', 'travel', 'right', 'secrets', 'universe', 'told', 'josh', 'humankind', 'comedy', 'timetravel', 'willsmith', 'tommyleejones', 'joshbrolin', 'barrysonnenfeld', 'immediately', 'events', 'dwarves', 'try', 'defend', 'mountain', 'treasure', 'claim', 'elves', 'army', 'orcs', 'rise', 'unite', 'middle', 'falls', 'corruption', 'dragon', 'swordandsorcery', 'martinfreeman', 'ianmckellen', 'peterjackson', 'outcast', 'high', 'parents', 'leaving', 'raised', 'ben', 'aunt', 'teenagers', 'trying', 'figure', 'got', 'person', 'today', 'father', 'understand', 'disappearance', 'leading', 'lab', 'dr', 'set', 'collision', 'course', 'choices', 'use', 'destiny', 'lossoffather', 'emmastone', 'robin', 'happens', 'dying', 'robert', 'promises', 'identity', 'widow', 'draws', 'town', 'sheriff', 'archer', 'medieval', 'russellcrowe', 'cateblanchett', 'ridleyscott', 'successfully', 'escaped', 'mountains', 'ring', 'continue', 'journey', 'gold', 'wizard', 'shocking', 'orphan', 'carefree', 'existence', 'jordan', 'college', 'otherworldly', 'north', 'unaware', 'england', 'experiment', 'animal', 'basedonyoungadultnovel', 'nicolekidman', 'york', 'ambitious', 'movie', 'producer', 'hired', 'crew', 'skull', 'island', 'encounter', 'kong', 'giant', 'ape', 'smitten', 'lady', 'filmmaking', 'filmproducer', 'dinosaur', 'naomiwatts', 'jackblack', 'adrienbrody', 'rose', 'tells', 'story', 'lewis', 'bobby', 'april', 'called', 'upper', 'class', 'passengers', 'mother', 'ruth', 'fiancé', 'drifter', 'best', 'friend', 'win', 'game', 'voyage', '20', 'morning', 'panic', 'katewinslet', 'leonardodicaprio', 'age', 'pass', 'act', 'designed', 'activity', 'causing', 'factions', 'america', 'causes', 'allies', 'civilwar', 'scarlettjohansson', 'radio', 'comes', 'form', 'waters', 'hawaii', 'lieutenant', 'alex', 'hopper', 'weapons', 'officer', 'assigned', 'paul', 'hostile', 'force', 'unimaginable', 'strength', 'taking', 'invaders', 'live', 'potential', 'brother', 'fiancée', 'shane', 'fight', 'navy', 'hongkong', 'soccer', 'scientist', 'peterberg', 'park', 'features', 'fully', 'dna', 'suspense', 'amusementpark', 'animalattack', 'animalhorror', 'assignment', 'wrong', 'exposed', 'attacked', 'forcing', 'cause', 'authority', 'position', 'challenged', 'intelligence', 'inside', 'ally', 'trust', 'aided', 'field', 'eve', 'lethal', 'hidden', 'motives', 'sociopath', 'killer', 'judidench', 'javierbardem', 'going', 'major', 'crisis', 'decides', 'leaves', 'suffering', 'wake', 'doc', 'feelings', 'mary', 'jane', 'girl', 'childhood', 'doctor', 'supervillain', 'apart', 'starts', 'odyssey', 'retribution', 'tennessee', 'malibu', 'gwynethpaltrow', 'doncheadle', 'alice', 'individual', '19', 'english', 'engagement', 'party', 'escapes', 'marriage', 'hole', 'garden', 'unusual', 'rabbit', 'arriving', 'strange', 'surreal', 'place', 'nightmares', 'child', 'filled', 'talking', 'animals', 'queens', 'reason', 'conquer', 'horrific', 'restore', 'throne', 'annehathaway', 'timburton', 'cure', 'lines', 'drawn', 'band', 'powerful', 'mutants', 'organized', 'mutant', 'beast', 'hughjackman', 'halleberry', 'brettratner', 'look', 'relationship', 'mike', 'days', 'monsters', 'university', 'friends', 'games', 'bestfriend', 'scary', 'billycrystal', 'johngoodman', 'stevebuscemi', 'sam', 'normal', 'mind', 'target', 'egypt', 'sun', 'chaos', 'tank', 'robot', 'shialabeouf', 'michaelbay', 'picks', 'pieces', 'conclusion', 'group', 'businessman', 'scientists', 'attempt', 'push', 'boundaries', 'technology', 'control', 'ancient', 'menace', 'cross', 'giantrobot', 'markwahlberg', 'oscar', 'small', 'circus', 'kansas', 'land', 'oz', 'inhabitants', 'great', 'prophecy', 'clutches', 'lost', 'milakunis', 'rachelweisz', 'busy', 'bad', 'guys', 'spending', 'loves', 'school', 'graduation', 'promise', 'uncovers', 'clues', 'obsession', 'jamiefoxx', 'tech', 'son', 'kevin', 'investigates', 'pulled', 'dictator', 'real', 'artificialintelligence', 'dystopia', 'computer', 'deception', 'duel', 'motorcycle', 'jeffbridges', 'oliviawilde', 'star', 'race', 'car', 'lightning', 'pal', 'head', 'compete', 'grand', 'road', 'championship', 'rocky', 'espionage', 'carrace', 'anthropomorphism', 'owenwilson', 'centuries', 'warriors', 'green', 'intergalactic', 'order', 'destroy', 'power', 'lie', 'human', 'recruited', 'transformation', 'ryanreynolds', 'petersarsgaard', 'martincampbell', 'woody', 'rest', 'andy', 'toys', 'haven', 'played', 'accidentally', 'nefarious', 'care', 'center', 'home', 'toy', 'toycomestolife', 'tomhanks', 'timallen', 'grown', 'post', 'apocalyptic', 'connor', 'lead', 'resistance', 'humans', 'increasingly', 'robots', 'marcus', 'wright', 'appears', 'determine', 'sanfrancisco', 'cyborg', 'killerrobot', 'gasstation', 'losangeles', 'antonyelchin', 'shaw', 'seeks', 'speed', 'vindiesel', 'paulwalker', 'dwaynejohnson', 'united', 'nations', 'investigator', 'lane', 'suddenly', 'plagued', 'infection', 'turning', 'zombies', 'barely', 'escaping', 'investigate', 'disease', 'follows', 'perilous', 'trek', 'brave', 'dangers', 'odds', 'answers', 'horror', 'apocalypse', 'zombie', 'bradpitt', 'species', 'join', 'younger', '1970s', 'storm', 'jamesmcavoy', 'michaelfassbender', 'enterprise', 'unstoppable', 'terror', 'stands', 'state', 'score', 'settle', 'kirk', 'leads', 'manhunt', 'zone', 'capture', 'weapon', 'mass', 'spacecraft', 'friendship', 'spaceopera', 'chrispine', 'unwittingly', 'opens', 'fearsome', 'giants', 'unleashed', 'reclaim', 'fighting', 'thought', 'existed', 'legend', 'chance', 'ewanmcgregor', 'adaptation', 'scott', 'novel', 'lured', 'lavish', 'neighbor', 'jay', 'madness', 'tragedy', 'infidelity', 'rogue', 'joins', 'capable', 'gift', 'gods', 'allow', 'rule', 'basedonvideogame', 'jakegyllenhaal', 'benkingsley', 'monstrous', 'creatures', 'started', 'rising', 'began', 'lives', 'resources', 'end', 'combat', 'special', 'type', 'massive', 'controlled', 'pilots', 'minds', 'bridge', 'nearly', 'relentless', 'verge', 'defeat', 'choice', 'turn', 'washed', 'pilot', 'charlie', 'drive', 'legendary', 'stand', 'steps', 'adulthood', 'remaining', 'reluctant', 'prime', 'film', 'centers', 'usa', 'role', 'remains', 'bodyguard', 'sabotage', 'johnmalkovich', 'cold', 'search', 'crystal', 'supernatural', 'mystical', 'captured', 'peru', 'colleague', 'professor', 'knowledge', 'riddle', 'whip', 'machinegun', 'treasurehunt', 'archaeologist', 'archeology', 'harrisonford', 'stevenspielberg', 'dinosaurs', 'makes', 'nature', 'scottish', 'ruled', 'sacred', 'inadvertently', 'brings', 'turmoil', 'eccentric', 'wise', 'ill', 'wish', 'serving', 'comic', 'enormous', 'scotland', 'rebel', 'bravery', 'bear', 'womandirector', 'courage', 'explores', 'reaches', 'puts', 'federation', 'stranded', 'hatred', 'karlurban', 'wall', 'overrun', 'clean', 'developed', 'arrives', 'thinks', 'finally', 'romanticcomedy', 'assassination', 'ambassador', 'inspector', 'detective', 'paris', 'french', 'leaders', 'holds', 'struggles', 'chinese', 'criminal', 'mastermind', 'jackiechan', 'worldwide', 'investigating', 'unprecedented', 'solar', 'core', 'president', 'thomas', 'wilson', 'unstable', 'saving', 'population', 'entire', 'doomed', 'writer', 'jackson', 'stumbles', 'information', 'build', 'cataclysm', 'wreak', 'havoc', 'endoftheworld', 'johncusack', 'amandapeet', 'chiwetelejiofor', 'rolandemmerich', 'christmas', 'spirits', 'current', 'dire', 'awaits', 'does', 'ways', 'faced', 'growing', 'decide', 'hold', 'redemption', 'holiday', 'money', 'ghost', 'lesson', 'jimcarrey', 'robertzemeckis', 'genetic', 'precious', 'key', 'dynasty', 'interspeciesromance', 'channingtatum', 'seanbean', 'lillywachowski', 'having', 'london', 'jungle', 'activities', 'mining', 'africa', 'siblings', 'step', 'peaceful', 'plunged', 'winter', 'children', 'spectacular', 'selfsacrifice', 'fairy', 'level', 'plan', 'supernaturalpowers', '1980s', 'jenniferlawrence', 'stakes', 'lt', 'jim', 'gordon', 'plague', 'streets', 'partnership', 'proves', 'prey', 'reign', 'terrified', 'citizens', 'sadism', 'organizedcrime', 'heathledger', 'aaroneckhart', 'carl', 'spent', 'exploring', 'experiencing', 'passed', 'twist', 'wilderness', 'russell', 'gives', 'agedifference', 'christopherplummer', 'murphy', 'meteor', 'wedding', 'mysteriously', 'grows', '11', 'captures', 'covert', 'government', 'placed', 'sethrogen', 'reesewitherspoon', 'held', 'captive', 'cave', 'billionaire', 'engineer', 'creates', 'suit', 'middleeast', 'terrencehoward', 'jonfavreau', 'living', 'walls', 'station', '1930s', 'fix', 'keeping', 'running', 'thing', 'work', 'unlock', 'believes', 'meets', 'george', 'seeking', 'surprising', 'connection', 'memories', 'buried', 'clock', 'filmdirector', 'hiding', 'martinscorsese', 'southern', 'inventor', 'loveless', 'civil', 'grant', 'west', 'master', 'disguise', 'thwart', 'basedontvseries', 'drag', 'kevinkline', 'kennethbranagh', 'rick', 'connell', 'travels', 'china', 'emperor', '000', 'pursue', 'domination', 'enlists', 'wife', 'abuse', 'brendanfraser', 'jetli', 'robcohen', 'dc', 'comics', 'suicide', 'squad', 'antihero', 'states', 'risk', 'exchange', 'prison', 'secretmission', 'fathersonrelationship', 'marriedcouple', 'support', 'rescue', 'stevecarell', 'cage', 'minutes', 'awakens', 'beginning', 'forced', 'die', 'physical', 'contact', 'thrown', 'loop', 'tomcruise', 'emilyblunt', 'brendangleeson', 'ice', 'rescues', 'charge', 'trio', 'map', 'tattoo', 'water', 'kevincostner', 'egyptian', 'desert', 'deep', 'elite', 'joe', 'uses', 'generation', 'corrupt', 'arms', 'dealer', 'prevent', 'murder', 'attack', 'explosion', 'dennisquaid', 'marlonwayans', 'riley', 'midwest', 'job', 'san', 'francisco', 'emotions', 'joy', 'anger', 'sadness', 'headquarters', 'everyday', 'struggle', 'ensues', 'main', 'important', 'navigate', 'house', 'dream', 'cartoon', 'moving', 'kids', 'tiger', 'khan', 'flee', 'self', 'discovery', 'spirited', 'snake', 'wolf', 'elephant', 'remake', 'talkinganimal', 'billmurray', 'faces', 'pressure', 'press', 'public', 'share', 'let', 'invention', 'confront', 'enemies', 'marries', 'violent', 'coup', 'murdered', 'snow', 'decade', 'obtain', 'immortality', 'heart', 'castle', 'forest', 'imprisoned', 'kristenstewart', 'charlizetheron', 'disney', 'iconic', 'classic', 'sleeping', 'beauty', 'pure', 'hearted', 'idyllic', 'invading', 'harmony', 'rises', 'ultimately', 'suffers', 'betrayal', 'stone', 'bent', 'successor', 'result', 'places', 'curse', 'newborn', 'infant', 'peace', 'true', 'happiness', 'retelling', 'angelinajolie', 'stay', 'aftermath', 'caesar', 'maintain', 'community', 'intelligent', 'apes', 'colony', 'woods', 'monkey', 'lovers', 'tale', 'impossible', 'backdrop', 'british', '18th', 'india', 'deeply', 'present', 'joshhartnett', 'based', 'original', 'japan', 'born', 'samurai', 'seek', 'vengeance', 'treacherous', 'banished', 'kind', 'honor', 'homeland', 'embark', 'challenges', 'series', 'trials', 'ordinary', 'basedontruestory', 'keanureeves', 'steve', 'aka', 'washington', 'web', 'intrigue', 'joining', 'expose', 'conspiracy', 'professional', 'assassins', 'plot', 'revealed', 'enlist', 'washingtond', 'samuell', 'bored', 'shrek', 'maker', 'feeling', 'twisted', 'version', 'met', 'mikemyers', 'eddiemurphy', 'camerondiaz', 'shared', 'bright', 'scientific', 'curiosity', 'genius', 'enigmatic', 'exists', 'memory', 'mystery', 'georgeclooney', 'develops', 'plus', 'sized', 'prodigy', 'brotherbrotherrelationship', 'talent', 'hate', 'ralph', 'foot', 'tall', 'video', 'jr', 'wanting', 'prove', 'good', 'guy', 'just', 'lands', 'duty', 'helps', 'enters', 'rush', 'racing', 'tracks', 'von', 'bullying', 'johnc', 'reilly', 'ride', 'shows', 'wonder', 'believe', 'santaclaus', 'nerd', 'knew', 'coming', 'defense', 'prepare', 'women', 'jeffgoldblum', 'billpullman', 'shy', 'iii', 'kill', 'warrior', 'longer', 'wants', 'instead', 'befriends', 'names', 'flying', 'arena', 'night', 'training', 'village', 'flight', 'gerardbutler', '10', 'saved', 'clear', 'assassin', 'ordered', 'finish', 'adult', 'promised', 'manvsmachine', 'sunglasses', 'firemen', 'psychiatrist', 'arnoldschwarzenegger', 'clairedanes', 'light', 'abducted', 'discovering', 'spaceship', 'outerspace', 'chronicles', 'explorers', 'newly', 'discovered', 'vast', 'involved', 'singleparent', 'nasa', 'expedition', 'raceagainsttime', 'familyrelationships', 'farmhouse', 'astronaut', 'fatherdaughterrelationship', 'singlefather', 'farmer', 'matthewmcconaughey', 'jessicachastain', 'skilled', 'corporate', 'targets', 'offered', 'regain', 'task', 'considered', 'idea', 'lossoflover', 'kidnapping', 'sleep', 'heist', 'josephgordon', 'levitt', 'ellenpage', 'hit', 'larger', 'tears', 'rag', 'tag', 'volunteers', 'cuts', 'red', 'tape', 'ties', 'foreign', 'greatest', 'catastrophe', 'eyes', 'quiet', 'swept', 'tunnel', 'los', 'angeles', 'street', 'racer', 'suspected', 'big', 'brian', 'sister', 'choose', 'lapd', 'streetgang', 'auto', 'benjamin', 'aging', 'bizarre', 'consequences', 'diary', 'funeral', 'hospital', 'davidfincher', 'charles', 'took', 'arch', 'working', 'cia', '1960s', 'nation', 'scale', 'katniss', 'final', 'showdown', 'unit', '13', 'stage', 'obsessed', 'destroying', 'mortal', 'traps', 'moral', 'challenge', 'hunger', 'revolution', 'joshhutcherson', 'sorcerer', 'manhattan', 'recruits', 'dave', 'average', 'crash', 'art', 'science', 'partners', 'darkness', 'apprentice', 'nicolascage', 'cruise', 'traveling', 'atlantic', 'wave', 'begin', 'dramatic', 'newyear', 'seve', 'drowning', 'ball', 'single', 'kurtrussell', 'richarddreyfuss', 'tim', 'mad', 'died', 'amp', 'ambush', 'assault', 'boardingschool', 'teacher', 'cowardliness', 'pregnancy', 'realm', 'portal', 'worlds', 'opposing', 'sides', 'videogame', 'paulapatton', 'benfoster', 'fears', 'unknown', 'warfare', 'fiction', 'cousin', 'painting', 'fantastic', 'goodvsevil', 'simonpegg', 'lifelong', 'danny', 'walker', 'ace', 'entangled', 'nurse', 'johnson', 'rivalry', 'turned', 'devastating', 'pearl', 'harbor', 'history', 'patriotism', 'worldwarii', 'airplane', 'katebeckinsale', 'teenager', 'extraterrestrial', 'transforming', 'heroic', 'retrieve', 'persian', 'empire', 'gone', 'greece', 'campaign', 'homosexuality', 'gayrelationship', 'ancientworld', 'colinfarrell', 'valkilmer', 'oliverstone', 'returning', 'fifth', 'study', 'matters', 'students', 'arts', 'cuttingthecord', 'childhero', 'dyinganddeath', 'blackmagic', 'sorcery', 'fourth', 'tournament', 'ron', 'expert', 'repair', 'image', 'damage', 'miss', 'successful', 'sense', 'purpose', 'alcohol', 'forbiddenlove', 'affection', 'alcoholism', 'jasonbateman', 'unable', 'spread', 'virus', 'daily', 'messages', 'desperate', 'survivors', 'wins', 'tour', 'chocolate', 'factory', 'candy', 'londonengland', 'parentskidsrelationship', 'rat', 'dreams', 'chef', 'despite', 'wishes', 'problem', 'beneath', 'restaurant', 'famous', 'apparent', 'kitchen', 'fine', 'passion', 'cooking', 'motion', 'hilarious', 'exciting', 'turns', 'upside', 'river', 'cook', 'mouse', 'confidence', 'roof', 'window', 'court', 'driven', 'bruce', 'underworld', 'himalaya', 'martialarts', 'ninja', 'liamneeson', 'marty', 'maurice', 'penguins', 'crazy', 'plane', 'jealousy', 'dance', 'zoo', 'penguin', 'volcano', 'zebra', 'shark', 'benstiller', 'jadapinkettsmith', 'museum', 'larry', 've', 'institution', 'include', 'close', 'lincoln', 'shawnlevy', 'logan', 'avenge', 'girlfriend', 'boxer', 'lievschreiber', 'invasion', 'neo', 'philosophy', 'kungfu', 'temple', 'subway', 'computervirus', 'virtualreality', 'cyberpunk', 'laurencefishburne', 'carrie', 'annemoss', 'anna', 'finding', 'fallen', 'accompanied', 'means', 'kristenbell', 'months', 'matrix', 'brought', 'ability', 'certain', 'pre', 'nasty', 'piece', 'news', 'hits', 'machine', 'digging', 'reach', 'hours', 'prepares', 'source', 'vengeful', 'reunite', 'foster', 'sacrifice', 'natalieportman', 'landscape', 'broken', 'exist', 'rebels', 'run', 'able', 'max', 'words', 'loss', 'path', 'australia', 'ontherun', 'tomhardy', 'georgemiller', 'harvard', 'evidence', 'underground', 'rome', 'vatican', 'christian', 'prequel', 'catholicism', 'ronhoward', 'mighty', 'arrogant', 'punishment', 'darkest', 'newmexico', 'biggest', 'hollywood', 'separated', 'beloved', 'owner', 'kidsandfamily', 'johntravolta', 'trained', 'mole', 'fly', 'sentenced', 'pet', 'shop', 'samrockwell', 'perseus', 'zeus', 'attempting', 'fisherman', 'sole', 'parent', 'losing', 'brothers', 'mythology', 'ralphfiennes', 'vampire', 'collins', 'changed', 'estate', 'imprisonment', 'fishoutofwater', 'michellepfeiffer', 'helenabonhamcarter', 'ethan', 'highly', 'committed', 'vienna', 'lawrence', 'visit', 'estranged', 'savage', 'flesh', 'ruralsetting', 'beniciodeltoro', 'anthonyhopkins', 'barry', 'disillusioned', 'lone', 'career', 'making', 'honey', 'trip', 'outside', 'vanessa', 'actually', 'tennis', 'flower', 'renéezellweger', 'po', 'valley', 'alongside', 'fellow', 'kung', 'fu', 'masters', 'furious', 'crane', 'origins', 'succeed', 'dustinhoffman', 'line', 'aside', 'air', 'warship', 'arrest', 'spirit', 'nightshyamalan', 'retired', 'hunt', 'sadistic', 'berlin', 'whitehouse', 'explosive', 'honeymoon', 'letter', 'mail', 'suitcase', 'celebration', 'philipseymourhoffman', 'policeman', 'little', 'heavily', 'armed', 'falling', 'country', 'usapresident', 'secretservice', 'mom', 'mischievous', 'sbook', 'sethgreen', 'joancusack', 'common', 'hang', 'spike', 'frog', 'orphanage', '12', 'hook', 'lily', 'rebellious', 'pan', 'dog', 'spring', 'stolen', 'moments', 'adoption', 'growingup', 'trouble', 'clash', 'convinces', 'helen', 'leave', 'husband', 'troy', 'asks', 'sees', 'opportunity', 'holding', '50', 'adultery', 'fraud', 'swordfight', 'battlefield', 'ericbana', 'apple', 'central', 'monte', 'attention', 'crashing', 'joined', 'julian', 'europe', 'collection', 'realize', 'want', 'korean', 'different', 'identities', 'satellite', 'powered', 'energy', 'piercebrosnan', 'paranormal', 'erin', 'nuclear', 'worker', 'femalefriendship', 'kristenwiig', 'asteroid', 'collide', 'dan', 'surface', 'bomb', 'renowned', 'agrees', 'isn', 'spacemarine', 'brucewillis', 'billybobthornton', 'kay', 'provide', 'toughest', 'convince', 'galaxy', 'illegalimmigration', 'newidentity', 'flyingsaucer', 'sin', 'royalty', 'raywinstone', 'continuing', 'threats', 'closer', 'installment', 'track', 'access', 'russian', 'planning', 'strike', 'ends', 'severe', 'bombing', 'immortal', 'hopes', 'beliefs', 'imagination', 'nightmare', 'alecbaldwin', 'judelaw', 'dick', 'loses', 'pretty', 'enjoy', 'second', 'thoughts', 'innocent', 'couple', 'hears', 'boss', 'company', 'desperation', 'robber', 'suburbia', 'humiliation', 'unemployment', 'téaleoni', 'nathan', 'japanese', 'learning', 'respect', 'open', 'trade', 'warcrimes', 'swordplay', 'general', 'warveteran', 'mercenary', 'lossofhusband', 'slaughter', 'alcoholic', 'moses', 'setting', 'slaves', 'terrifying', 'deadly', 'bible', 'johnturturro', 'bitter', 'rivals', 'thrill', 'iowa', 'farm', 'spacemission', 'leonardnimoy', 'genetically', 'nerdy', 'student', 'amazing', 'thanksgiving', 'willemdafoe', 'thrilling', 'chapter', 'races', 'favorite', 'sport', 'pair', 'hundreds', 'wild', 'wifehusbandrelationship', 'mothersonrelationship', 'mythical', 'jessicabiel', 'gritty', 'alternate', '1985', 'glory', 'masked', 'brutally', 'investigation', 'reunited', 'doing', 'grave', 'massmurder', 'retirement', 'soviet', 'billycrudup', 'carlagugino', 'franchise', 'detectives', 'martin', 'roger', 'mobster', 'sing', 'slave', 'leo', 'smart', 'rookie', 'melgibson', 'dannyglover', 'joepesci', 'richarddonner', 'genetics', 'researcher', 'tragic', 'laboratory', 'transform', 'angry', 'california', 'gun', 'mutation', 'psychology', 'mirror', 'phone', 'cell', 'jenniferconnelly', 'anglee', 'framed', 'presidential', 'contend', 'missile', 'surveillance', 'business', 'underwater', 'buddy', 'stevezahn', 'ross', 'collect', 'mentor', 'unleash', 'donaldsutherland', 'ii', 'brooklyn', 'transformed', 'intends', 'device', 'nazis', 'nazigermany', 'perioddrama', 'greed', 'oil', 'heiress', 'notorious', 'submarine', 'supply', 'hanging', 'royal', 'commitment', 'pursuit', 'devoted', 'surgeon', 'paulbettany', 'birth', 'gather', 'fangvamp', 'worse', 'shaken', 'elijahwood', 'robinwilliams', 'pink', 'rage', 'fugitive', 'virginia', 'edwardnorton', 'timroth', 'bone', 'nice', 'lucky', 'sophie', 'cannibal', 'rebeccahall', 'glass', 'rape', 'frontier', 'nativeamerican', 'violence', 'basedontrueevents', 'winning', '500', 'underdog', 'fast', 'paulgiamatti', 'winds', 'dirt', 'courageous', 'waiting', 'play', 'nevada', 'lasvegas', 'private', 'wind', 'reporter', 'simon', 'operation', 'project', 'newspaper', 'efforts', 'prosecution', 'falseidentity', 'revelation', 'shootout', 'footchase', 'flashback', 'mattdamon', 'juliastiles', 'paulgreengrass', 'lazy', 'chosen', 'slacker', 'won', 'easy', 'turtle', 'inner', 'ant', 'obstacles', 'paulrudd', 'michaeldouglas', 'safe', 'annual', 'embarking', 'victor', 'rebellion', 'competition', 'television', 'uprising', 'femaleprotagonist', 'winner', 'confident', 'relocated', 'manages', 'accidental', 'lot', 'lifetime', 'stevemartin', 'ray', 'divorced', 'perfect', 'ex', 'drop', 'teenage', 'rare', 'weekend', 'touches', 'posttraumaticstressdisorder', 'newjersey', 'dakotafanning', 'cops', 'miami', 'narcotics', 'cars', 'drug', 'cuba', 'fireworks', 'playboy', 'secretly', 'sexy', 'mexicanstandoff', 'gunfight', 'gangster', 'interrogation', 'carchase', 'druglord', 'actionhero', 'martinlawrence', 'lover', 'tough', 'cat', 'antoniobanderas', 'salmahayek', 'zachgalifianakis', 'loyalty', 'tested', 'skills', 'experience', 'operative', 'innocence', 'serve', 'doubt', 'question', 'coldwar', 'phillipnoyce', 'visions', 'loyal', 'thrust', 'carrying', 'suspects', 'stealing', 'bumbling', 'thompson', 'ahead', 'fortune', 'convict', 'northern', 'aristocrat', 'inherits', 'ranch', 'stock', 'cattle', 'missionary', 'thousand', 'ready', 'craft', 'lies', 'recover', 'orphaned', 'shower', 'comet', 'prehistoric', 'meaning', 'date', 'fish', 'mayor', 'rain', 'willferrell', 'potter', 'lived', 'birthday', 'newfound', 'deaths', 'blame', 'christmasparty', 'halloween', 'chriscolumbus', 'recently', 'undead', 'officers', 'policeoperation', 'kevinbacon', 'caribbean', 'heads', 'rival', 'port', 'governor', 'kidnapped', 'simple', 'marriageproposal', 'skeleton', 'geoffreyrush', 'famed', 'involving', 'christianity', 'monk', 'secretsociety', 'jewel', 'fit', 'law', 'bird', 'audition', 'jesseeisenberg', 'lesliemann', 'gifted', 'superheroes', 'anti', 'col', 'william', 'jean', 'scheme', 'patrickstewart', 'opposite', 'mia', 'broke', 'custody', 'authorities', 'corner', 'gain', 'freedom', 'brazil', 'fbi', 'carcrash', 'policechase', 'large', 'conscience', 'advantage', 'guyritchie', 'lose', 'hell', 'battling', 'demons', 'beasts', 'survive', 'accepts', 'construction', 'douglas', 'chip', 'brain', 'reality', 'falselyaccused', 'doublelife', 'telepathy', 'sharonstone', 'arab', 'iraq', 'johnmctiernan', 'aaron', 'experiences', 'previous', 'jason', 'recruit', 'homicidal', 'poison', 'dynamic', 'donnell', 'joelschumacher', 'creature', 'steal', 'lou', 'newlove', 'hall', 'trapped', 'start', 'tornado', 'hurricane', 'evacuation', 'climate', 'antarctic', 'spain', 'unleashing', 'accept', 'helicopter', 'skyscraper', 'thandienewton', 'weather', 'conditions', 'combined', 'fishing', 'boat', 'minute', 'details', 'dianelane', 'screen', 'surfer', 'resurrection', 'jessicaalba', 'pacific', 'johnny', 'soul', 'parts', 'getting', 'offers', 'release', 'mephisto', 'religionandsupernatural', 'devil', 'stunts', 'flame', 'evamendes', 'wesbentley', 'angels', 'charged', 'missing', 'members', 'witness', 'protection', 'ladies', 'responsible', 'robbery', 'drewbarrymore', 'lucyliu', 'corners', 'android', 'creation', 'guypearce', 'stuart', 'happily', 'east', 'store', 'michaelj', 'fox', 'classes', 'wealthy', 'secretary', 'hard', 'immigration', 'laws', 'lifestyle', 'matt', 'damon', 'jodiefoster', 'bounty', 'hunters', 'champion', 'used', 'forbidden', 'enforcement', 'controversial', 'loving', 'detroit', 'injured', 'michaelkeaton', 'brilliant', 'driver', 'inspired', 'lossofbrother', 'emilehirsch', 'christinaricci', 'cut', 'bit', 'lisa', 'baseball', 'playing', 'lovetriangle', 'athlete', 'brooks', 'glamorous', 'amid', 'airport', 'garage', 'jamesmangold', 'decades', 'stranger', 'arrival', 'chain', 'knows', 'morganfreeman', 'clone', 'wars', 'noble', 'jedi', 'wide', 'republic', 'skywalker', 'twin', 'grow', 'haydenchristensen', 'leadership', 'renegade', 'count', 'thousands', 'threaten', 'break', 'senator', 'movement', 'lasergun', 'sullivan', 'earn', 'tests', 'emotional', 'limits', 'changing', 'worldwari', 'famkejanssen', 'strong', 'destroyed', 'stoneage', 'cavemen', 'olympic', 'marry', 'rid', 'process', 'olympicgames', 'roman', 'ho', 'indians', 'language', 'code', 'sisters', 'eric', 'sara', 'grip', 'grim', 'turtles', 'cameraman', 'unravel', 'diabolical', 'van', 'newyorkcity', 'ryan', 'medical', 'veteran', 'command', 'routine', 'completely', 'link', 'sandrabullock', 'edharris', 'sleepy', 'recent', 'worst', 'smalltown', 'motel', 'cabin', 'rogerdonaldson', 'henchmen', 'facing', 'similar', 'intentions', 'abilities', 'telekinesis', 'katemara', 'natural', 'desperately', 'securityguard', 'earthquake', 'deranged', 'media', 'secretintelligenceservice', 'tvstation', 'southernusa', 'lossofson', 'lossoffamily', 'gore', 'reunites', 'thieves', 'huge', 'amsterdam', 'hot', 'catherinezeta', 'stevensoderbergh', 'bliss', 'stuck', 'paid', 'mix', 'wicked', 'hitman', 'marriagecrisis', 'vincevaughn', 'tear', 'dystopicfuture', 'youngadult', 'filmmaker', 'howard', 'magnate', 'obsessive', 'disorder', 'ladykiller', 'biography', 'womanizer', 'congress', 'tiny', 'journalist', 'seth', 'largest', 'happy', 'tom', 'dies', 'employee', 'realizing', 'fighters', 'vandalism', 'nightclub', 'knife', 'trap', 'frank', 'miller', 'graphic', 'style', '300', 'saga', 'fresh', 'greek', 'pits', 'commander', 'basedongraphicnovel', 'handtohandcombat', 'lenaheadey', 'blue', 'fact', 'greedy', 'schemes', 'possession', 'heaven', 'determined', 'karate', 'sky', 'match', 'wits', 'cow', 'near', 'spell', 'kidnaps', 'patrick', 'grace', 'diamond', 'card', 'mcclane', 'calls', 'hacker', 'internet', 'terrorists', 'intent', 'fistfight', 'cellphone', 'justinlong', 'timothyolyphant', 'creator', 'bet', 'circle', 'pro', 'victory', 'scene', 'clay', 'bold', 'entirely', 'african', 'americans', 'ali', 'transporter', 'jonvoight', 'sally', 'walks', 'door', 'introduces', 'fun', 'hand', 'boredom', 'stepfather', 'suspecting', 'chicago', 'bloody', 'religious', 'jeremyirons', 'misadventures', 'searching', 'waitress', 'fulfill', 'music', 'voodoo', 'kiss', 'mark', 'fierce', 'survived', 'draw', 'isolation', 'resident', 'facility', 'environment', 'location', 'cloning', 'porter', 'architect', 'ellie', 'longtime', 'griffin', 'direction', 'anniversary', 'warrenbeatty', 'dianekeaton', 'pals', 'accomplish', 'blackmail', 'gladiator', 'audiences', 'laid', 'waste', 'fame', 'skill', 'slavery', 'joaquinphoenix', 'noir', 'ignoring', 'attacks', 'banker', 'poker', 'financial', 'market', 'italy', 'torture', 'landing', 'gorilla', 'sarah', 'targeted', 'send', 'shotgun', 'depression', 'era', 'bank', 'charm', 'elusive', 'number', 'melvin', 'bringing', 'cinema', 'employer', 'lucas', 'heroin', 'harlem', 'south', 'asia', 'drugs', 'blackpeople', 'drugtraffic', 'ambition', 'dishonesty', 'denzelwashington', 'florida', 'jamieleecurtis', 'hijack', 'ransom', 'walter', 'tonyscott', 'pam', 'greg', 'cash', 'dad', 'suspicions', 'male', 'twins', 'skeptical', 'robertdeniro', 'paulweitz', 'nypd', 'christopher', 'don', 'allen', 'terry', 'background', 'focus', 'stumble', 'case', 'touch', 'narration', 'ceo', 'buddycomedy', 'marshall', 'selling', 'guard', 'marshal', 'jamescaan', 'german', 'hunter', 'brutal', 'mississippi', 'plantation', 'bountyhunter', 'racism', 'dentist', 'quentintarantino', 'festival', 'cruel', 'rescued', 'gypsy', 'judge', 'religion', 'demimoore', 'centered', 'tell', 'room', 'summer', 'palace', 'church', 'territory', 'airplanecrash', 'ensemblecast', 'sylvesterstallone', 'jasonstatham', 'simonwest', 'revolutionary', 'independence', 'dianekruger', 'egg', 'ira', 'carol', 'crown', 'lying', 'catherinekeener', 'amandaseyfried', 'tourist', 'venice', 'eye', 'anthony', 'written', 'directed', 'hotel', 'undercoveragent', '1999', 'body', 'bride', 'christine', 'atheist', 'sex', 'pastor', 'nudity', 'christ', 'priest', 'gabrielbyrne', 'recovering', 'value', 'rescuing', 'journalism', 'smuggling', 'stockbroker', 'refuses', 'mob', 'sexuality', 'humor', 'wallstreet', 'jonahhill', 'caused', 'courtroom', 'accident', 'edward', 'millionaire', 'ward', 'psychologist', 'disfigurement', 'non', 'satire', 'stories', '19th', 'distant', 'impact', 'award', 'david', 'mitchell', 'jimbroadbent', 'barn', 'owl', 'st', 'soldiers', 'created', 'books', 'mild', 'mannered', 'resurrected', 'eager', 'say', 'tail', 'basketball', 'benjaminbratt', 'ago', 'tormented', 'souls', 'presence', 'mercenaries', 'johnhurt', 'teaches', 'littleboy', 'research', 'assistant', 'alienlife', 'barney', 'faster', 'extreme', 'sports', 'point', 'fbiagent', 'aspiring', 'raising', 'baby', 'whale', 'size', 'surviving', 'pushed', 'despair', 'morality', 'searches', 'mate', 'cillianmurphy', 'sell', 'club', 'helping', 'bar', 'rosariodawson', '2003', 'chief', 'roy', 'site', 'chemical', 'elaborate', 'gregkinnear', 'brown', 'corporation', 'dialogue', 'independentfilm', 'unfortunately', 'psychotic', 'kingpin', 'earlier', 'area', 'irish', 'immigrant', 'pig', 'danielday', 'refuge', 'posing', 'cody', 'idol', 'animated', 'mockumentary', 'produced', 'pictures', 'stars', 'jeff', 'jon', 'zooeydeschanel', 'ask', 'housewife', 'matthewbroderick', 'bettemidler', 'frankoz', 'kidnap', 'warlord', 'shot', 'heavy', 'intense', 'ground', 'prisonersofwar', 'election', 'carolina', 'politics', 'politician', 'jayroach', 'taxi', 'given', 'charlotte', 'married', 'samantha', 'vacation', 'retreat', 'remember', 'decided', 'sarahjessicaparker', 'failed', 'el', 'surprise', 'worth', 'diego', 'pirates', 'johnleguizamo', 'unexpectedly', 'passes', 'ella', 'stepmother', 'daughters', 'meeting', 'dashing', '14', 'watches', 'grief', 'desire', 'tree', 'serialkiller', 'corpse', 'pedophile', 'grieving', 'susansarandon', 'office', 'aquarium', 'friendly', 'vegetarian', 'sharks', 'dude', 'hungry', 'suspicion', 'brutality', 'viggomortensen', 'fort', 'guide', 'local', 'witches', 'manner', 'carry', 'couldn', 'juliannemoore', 'moonlights', 'goal', 'alan', 'amanda', 'infamous', 'breaks', 'loose', 'host', 'samneill', 'williamh', 'macy', 'alzheimer', 'slowly', 'feels', 'especially', 'singlemother', 'nicknolte', 'prisoners', 'moscow', 'methods', 'russia', 'mexican', 'santa', 'bob', 'insurance', 'raise', 'receives', 'costume', 'nelson', 'adams', 'murderous', 'difficult', 'rennyharlin', 'needed', 'loganlerman', 'assassinate', 'typical', 'cowboy', 'camp', 'collector', 'al', 'truly', 'runaway', 'toxic', 'pennsylvania', 'million', 'hong', 'meet', 'embassy', 'complicated', 'boys', 'threatening', 'situations', 'claire', 'spencer', 'hearing', 'seeing', 'wonders', 'telling', 'hauntedhouse', 'haunting', 'flint', 'food', 'billhader', 'annafaris', 'times', 'motor', 'neighbors', 'insanity', 'magazine', 'photo', 'manager', 'photographer', 'tv', 'dylan', 'natalie', 'traffic', 'differences', 'martial', 'boston', 'mafia', 'infiltrate', 'undercovercop', 'jacknicholson', 'imperial', 'li', 'luck', 'vietnam', 'budget', 'studio', 'executive', 'filming', 'advice', 'actors', 'scenes', 'production', 'gangs', 'moviestar', 'disgraced', 'patriarch', 'niece', '40', 'punk', 'hacking', 'demands', 'coffin', 'rachelmcadams', 'accused', 'survives', 'board', 'jasonlee', 'wounded', 'nazi', 'native', 'germany', 'create', 'shadow', 'unfold', 'player', 'tasked', 'colonel', 'israeli', 'runs', 'll', 'israel', 'mossad', 'adamsandler', 'dennisdugan', 'michellemonaghan', 'adopted', 'gradually', 'circumstances', 'prostitute', 'lossofmother', 'extraterrestrialtechnology', 'pinocchio', 'haleyjoelosment', 'workaholic', 'mansion', 'arrive', 'butler', 'decisions', 'jameswoods', 'sebastian', 'invisible', 'formula', 'eventually', 'drives', 'results', 'elisabethshue', 'seanpenn', 'box', 'magician', 'woodyharrelson', 'emma', 'gas', 'bishop', 'prisoner', 'robertredford', 'garysinise', 'timrobbins', 'briandepalma', 'linda', 'word', 'female', 'richard', 'product', 'andrew', 'youngest', 'perform', 'la', 'emergency', 'amy', 'frankie', 'buy', 'anonymity', 'conan', 'massacre', 'pain', 'released', 'hills', 'repayment', 'comeback', 'socially', 'poor', 'netherlands', 'sdailylife', 'doll', 'chriscooper', 'sign', 'divorce', 'extremely', 'truck', 'helenhunt', 'billpaxton', 'caryelwes', 'chuck', 'kelly', 'heading', 'suicideattempt', 'loneliness', 'mates', 'song', 'crush', 'singing', 'brittanymurphy', 'documents', 'seaside', 'marie', 'sniper', 'glennclose', '24', 'parole', 'charismatic', 'las', 'vegas', 'risks', 'tess', 'stripclub', 'double', 'millajovovich', 'paulw', 'anderson', 'dracula', 'resort', 'aged', 'mummy', 'frankenstein', 'shocked', 'chaotic', 'fall', 'view', 'jamesmarsden', 'verafarmiga', 'outrageous', 'oddball', 'puppy', 'scheming', 'luxury', 'staff', 'workers', 'amateur', 'petty', 'crook', 'apartment', 'caseyaffleck', 'kate', 'britain', 'countryhouse', 'multiplestorylines', 'dean', 'victim', 'theft', 'national', 'genehackman', 'jake', 'merylstreep', 'criminals', 'vows', 'asking', 'season', 'rely', 'elliot', 'bunny', 'ashtonkutcher', 'divided', 'personality', 'russians', 'germans', 'disappears', 'affections', 'brazilian', 'seannwilliamscott', 'fictional', 'character', 'movieinmovie', 'spoof', 'romantic', 'maid', 'sistersisterrelationship', 'brothel', 'jail', 'sentence', 'sean', 'tokyo', 'low', 'rent', 'section', 'carjourney', 'receive', 'arthur', 'misfit', 'billnighy', 'agenda', 'lifeanddeath', 'loveatfirstsight', 'colombia', 'eliaskoteas', 'semi', 'feel', 'broadway', 'surgery', 'spends', 'seven', 'launches', 'juliaroberts', 'canadian', 'rockstar', 'rapidly', 'literally', 'resolve', 'hilaryswank', 'specialist', 'seriously', 'petersegal', 'separate', 'knowing', 'freddieprinzejr', 'sarahmichellegellar', 'wasteland', 'ma', 'possibility', 'stopping', 'urban', 'deliver', 'brand', 'ranking', 'popular', 'extremeviolence', 'psychic', 'remote', 'allows', 'forward', 'complications', 'arise', 'christopherwalken', '1950s', 'romero', 'stephen', 'tales', 'anthology', 'georgea', 'christinaapplegate', 'instantly', 'bloodthirsty', 'adolescence', 'lossofchild', 'demon', 'pact', 'selmablair', 'serial', 'bay', 'letters', 'built', 'endless', 'plannedmurder', 'sci', 'lovesickness', 'prayer', 'jenniferaniston', 'scout', 'blade', 'crack', 'suspect', 'event', 'prepared', 'sharp', 'drunken', 'watching', 'hallucination', 'thailand', 'stu', 'bachelor', 'planned', 'bangkok', 'bradleycooper', 'accepted', 'crooked', 'building', 'christmastree', 'dannydevito', 'suburban', 'lonely', 'older', 'watch', 'social', 'adopts', 'funny', 'scared', 'dinner', 'table', 'hatches', 'happen', 'rock', 'robertduvall', 'coach', 'asked', 'inmates', 'football', 'americanfootball', 'chrisrock', 'tropical', 'paradise', 'deserted', 'ups', 'adam', 'grew', 'ones', 'lessons', 'kevinjames', 'analyst', 'dancing', 'industry', 'patient', 'insane', 'families', 'bust', 'pride', 'dysfunctionalfamily', 'better', 'rageandhate', 'joanallen', 'nephew', 'fantasies', 'actual', 'imaginary', 'adamshankman', 'jenniferjasonleigh', 'schoolteacher', 'beach', 'beautifulwoman', 'bag', 'creepy', 'hijacking', 'jerry', 'rachel', 'strangers', 'happening', 'twinbrother', 'ruby', 'blind', 'sweetheart', 'invites', 'luke', 'isolated', 'hill', 'guests', 'trauma', 'insomnia', 'loner', 'michael', 'france', 'stadium', 'murderhunt', 'jeanreno', 'went', 'evolution', 'environmental', 'speaking', 'ufo', 'poweroutage', 'kathybates', 'theory', 'taxidriver', 'paranoia', 'wheelchair', 'european', 'theater', 'sergeant', 'division', 'transfer', 'fashion', 'editor', 'crashes', 'ivanreitman', 'shut', 'danaykroyd', 'justintimberlake', 'cavalry', 'teach', 'raymond', 'incident', 'capital', 'vice', 'haunted', 'happened', 'didn', 'questions', 'possible', 'appear', 'sight', 'cool', 'hoping', 'jill', 'saw', 'hara', 'account', 'necessary', 'enter', 'femalenudity', 'cruelty', 'comfort', 'county', 'mexico', 'chris', 'annie', 'cubagoodingjr', 'sons', 'satan', 'harveykeitel', 'artists', 'performing', 'beings', 'literature', 'terrygilliam', 'mean', 'films', '60s', 'annettebening', 'housing', 'pregnant', 'julie', 'elements', 'stalking', 'affair', 'murders', 'allied', 'kennedy', 'atomicbomb', 'robbers', 'jersey', 'kit', 'walking', 'documentary', 'profit', 'tyler', 'forestwhitaker', 'contract', 'escort', 'liveactionandanimation', 'struggling', 'week', 'shooting', 'inspiration', 'mistress', 'shakespeare', 'willpatton', 'babe', 'contest', 'vicious', 'cursed', 'tracking', 'astronauts', 'grandfather', 'grandmother', 'block', 'unless', 'pay', 'success', 'helped', 'filmed', 'sub', 'disastrous', 'erupts', 'hearts', 'legacy', 'mathematics', 'prize', 'graduate', 'teaching', 'breaking', 'paranoid', 'mental', 'status', 'mathematician', 'schizophrenia', 'delusion', 'wait', 'title', 'lossofparents', 'boyfriend', 'missingperson', 'psychopath', 'advertising', 'katieholmes', 'alpacino', 'dirty', 'shady', 'monica', 'motherdaughterrelationship', 'epidemic', 'transforms', 'roadmovie', 'renerusso', 'piperperabo', 'terrier', 'kevinhart', 'cunning', 'bite', 'seanconnery', 'league', 'fallinginlove', 'july', 'cities', 'fails', 'plant', 'malcolm', 'revealing', 'document', 'behavior', 'roles', 'activist', 'hippie', 'miracle', 'cliveowen', 'academy', 'wesley', 'missionofmurder', '100', 'marines', 'starting', 'situation', 'henry', 'quirky', 'total', 'short', 'term', 'tracy', 'tvshow', 'performance', 'basedonstagemusical', 'xenophobia', 'wwii', 'convinced', 'troops', 'somebody', 'exorcism', 'demonicpossession', 'performances', 'reward', 'vault', 'swing', 'mariabello', 'lounge', 'simply', '16', 'quick', 'thinking', 'emmaroberts', 'austin', 'highest', 'base', 'climbing', 'afghanistan', 'dollar', 'aspirations', 'secretlove', 'robinson', 'pop', 'singers', 'early', 'drugaddiction', 'oscaraward', 'singer', 'extramaritalaffair', 'musicband', 'umathurman', 'garygray', 'hotelroom', 'seal', 'follow', 'antoinefuqua', 'katherineheigl', 'union', 'kgb', 'tensions', 'terms', 'upperclass', 'relationshipproblems', 'bed', 'teens', 'frightening', 'barrylevinson', 'timeless', 'passionate', 'period', 'richardgere', 'widowed', 'deathpenalty', 'fat', 'rampage', 'mickeyrourke', 'accountant', 'beat', 'guilt', 'homeinvasion', 'ford', 'broker', 'actor', 'instructor', 'solve', 'rapmusic', 'todd', 'dumped', 'eliminate', 'attractive', 'soundtrack', 'horrifying', 'repressed', 'coma', 'pulls', 'parallelworld', 'answer', 'price', 'robinwright', 'abusive', 'alternative', 'strategy', 'asylum', 'homicide', 'witnesses', 'boxing', 'policeofficer', 'volatile', 'visited', 'finn', 'cemetery', 'yacht', 'bahamas', 'scubadiving', 'katehudson', 'delivers', 'stunning', 'comedian', 'cancer', 'jennifergarner', 'cal', 'stripes', 'shake', 'records', 'plays', 'matter', 'cheating', 'lake', 'quarantine', 'alaska', 'mistaken', 'talented', 'jimmy', 'promoter', 'chilling', 'possessed', 'fields', 'rural', 'tension', 'liberation', 'cup', 'seasoned', 'paulnewman', 'writes', 'maggie', 'flees', 'moment', 'garrymarshall', 'junkie', 'attitude', 'exactly', 'bikini', 'sandy', 'rich', 'occupied', 'jewish', 'guerrilla', 'jew', 'wasn', 'supposed', 'did', 'cost', 'granny', 'capt', 'steven', 'various', 'wealth', 'looks', 'gorgeous', 'sofia', 'pool', 'swimmingpool', 'arctic', 'hunting', 'predator', 'stardom', '25', 'sparks', 'fought', 'vietnamveteran', 'vietnamwar', 'bigger', 'angelabassett', 'picard', 'jonathanfrakes', 'expected', 'unlike', 'picture', 'albert', 'joey', 'sold', 'execution', 'artistic', 'owners', 'nuclearmissile', 'economy', 'preparing', 'muslim', 'countryside', 'firm', 'winonaryder', 'hustler', 'mistakenidentity', 'response', 'murderer', 'member', 'catch', 'arnold', 'dealers', 'stephenrea', 'strip', 'senior', 'giving', 'nearby', 'unwitting', 'hart', 'trial', 'starring', 'rebecca', 'opening', 'jonathan', 'moves', 'instant', 'superstar', 'wrestling', 'chrisklein', 'victims', 'hoodlum', 'christianslater', 'bobbyfarrelly', 'peterfarrelly', 'dorothy', 'wakes', 'pierre', 'prominent', 'novelist', 'yard', 'seductive', 'malenudity', 'bars', 'jimcaviezel', 'lust', 'tyrannical', 'desires', 'succeeds', 'seattle', 'ravaged', 'midst', 'decision', 'approaching', 'confronted', 'gotten', 'kid', 'marlonbrando', 'ballet', 'jasonsegel', 'wesleysnipes', 'jenniferlopez', 'ted', 'historical', 'cult', 'historicalfigure', 'aren', 'fred', 'signs', 'approach', 'expectations', '60', 'interview', 'coast', 'miles', 'beating', 'markstrong', 'guest', 'attending', 'spiral', 'fiancee', 'vampires', 'anthonymackie', 'distrust', 'files', 'secretorganization', 'davidduchovny', 'ancientrome', 'colinfirth', '1940s', 'revolves', 'illegal', 'hear', 'darcy', 'marisatomei', 'maine', 'overcome', 'thomasjane', 'focuses', 'pursues', 'critical', 'generations', 'speech', '1971', 'heroism', '200', 'calvin', 'gig', 'independent', 'megryan', 'dale', 'jealous', 'competitive', 'constant', 'becominganadult', 'spanish', 'troubled', 'foil', 'wallet', 'list', 'highway', 'hitchhiker', 'chronicle', 'louis', 'runner', 'elderly', 'clinteastwood', 'utah', 'reconcile', 'midlifecrisis', 'suppressedpast', 'emilymortimer', 'katherine', 'ann', 'conservative', 'sexual', 'attends', 'sexualobsession', 'eroticism', 'marijuana', 'illegalprostitution', 'changes', 'candidate', 'guardian', 'angel', 'rosebyrne', 'jess', 'wing', 'seduction', 'conman', 'dating', 'kriskristofferson', 'mid', 'colorado', 'presidentialelection', 'scandal', 'bush', 'emmathompson', 'eating', 'outbreak', 'terminal', 'audience', 'darkcomedy', 'hires', 'davidmorse', 'boring', 'daxshepard', 'salesman', 'therapy', 'catches', 'clubs', 'claims', 'fans', 'players', 'trainer', 'spend', 'andiemacdowell', 'celebrity', 'lottery', 'drawing', 'numbers', 'rough', 'lisakudrow', 'oliver', 'childabuse', 'hire', 'robertrodriguez', 'dutch', 'surrounding', 'inspiring', 'snowstorm', 'lonewolf', 'villains', 'featuring', 'gunslinger', 'gambling', 'cartel', 'chased', 'adopt', 'wade', 'widower', 'robreiner', 'hockey', 'guru', 'bollywood', 'rob', 'elvis', 'convention', 'courteneycox', 'shelter', 'wyoming', 'roll', 'loosely', 'said', 'plenty', 'row', 'gentle', 'possesses', 'healing', 'roadtrip', 'sanity', 'chicken', 'spotlight', 'campbell', 'georgia', 'joseph', 'hour', 'color', 'opera', 'lauralinney', 'jobs', 'inspires', 'dea', 'bankrobbery', 'dogs', 'crossed', 'metal', 'dedicated', 'guidance', 'legal', 'hughgrant', 'neurotic', 'march', 'woodyallen', 'couples', 'descend', 'problems', 'cole', 'desolate', 'maze', 'brien', 'confused', 'pleasure', 'paced', 'gunman', 'helenmirren', 'replace', 'presents', 'montana', 'peasant', 'exact', 'baltimore', 'says', 'report', 'bargained', 'sharkattack', 'interviews', 'footage', 'popstar', 'concert', 'kills', 'terminalillness', 'musician', 'mixed', 'anthonyanderson', 'parallel', 'everybody', 'lure', 'elliott', 'moore', 'betty', 'uptight', 'ken', 'informant', 'constantly', 'puppet', 'raid', 'ceremony', 'occult', 'cynical', 'willing', 'clients', 'rightandjustice', 'speak', 'stopmotion', 'mcphee', 'deputy', 'network', 'raw', 'warren', 'chauffeur', 'clark', 'jenniferlovehewitt', 'passenger', 'blow', 'stevenseagal', 'davido', 'minister', 'ripley', 'rifle', 'gary', 'suspicious', 'girls', 'evanrachelwood', 'mistakenly', 'elizabethbanks', 'pageant', 'stan', 'cohen', 'guns', 'goons', 'ryangosling', 'haroldramis', 'apartheid', 'believing', 'historic', 'southafrica', 'poverty', 'serves', 'upcoming', 'engaged', 'fired', 'jeffdaniels', 'darylhannah', 'donaldpetrie', 'kiefersutherland', '1950', 'beverly', 'tycoon', 'inheritance', 'joelcoen', 'failing', 'disturbing', 'gruesome', 'naturally', 'stress', 'therapist', 'dirtycop', 'autism', 'homeless', 'golf', 'comingofage', 'sidekick', 'alike', 'record', 'icecube', 'crucifixion', 'sailor', 'disappeared', 'patients', 'pregnancyandbirth', 'voice', 'actress', 'pornography', '17', 'warlock', 'williams', 'occurrences', 'bedroom', 'clerk', 'camera', 'contain', 'acts', 'rayliotta', 'heartbreak', 'appointed', '30', 'stephenherek', 'saves', 'author', 'madison', 'flirt', 'biker', 'italian', 'handed', 'deceased', 'hometown', 'bully', 'songwriter', 'songs', 'client', 'fail', 'tabloid', 'relationships', 'rules', 'thomashadenchurch', 'sick', 'prompting', 'throw', 'jasonbiggs', '2009', 'alabama', 'phil', 'stripper', 'ghosts', 'kat', 'stretch', 'mccall', 'ultra', 'gangsters', 'chloëgracemoretz', 'fateful', 'mistakes', 'evening', 'issues', 'stages', 'credit', 'homelessperson', 'bus', 'yakuza', 'includes', 'diva', 'tried', 'visits', 'motherrole', 'warondrugs', 'ernest', 'breakdown', 'mere', 'drinking', 'wang', 'demanding', 'kurt', 'michaelangarano', 'madonna', 'sir', 'railroad', 'expects', 'tomwilkinson', 'offer', 'bears', 'neighborhood', 'maniac', 'maybe', 'martha', 'vineyard', 'walt', 'cher', 'dancer', 'freak', 'jackie', 'michigan', '1976', 'somewhat', 'seas', 'reunion', 'fan', 'phantom', 'terrorizing', 'patrickwilson', 'virgin', 'surrealism', 'terrorize', 'hood', 'spot', 'attraction', 'official', 'attracted', 'culture', 'boarding', 'pianist', 'respective', 'confession', 'andygarcía', 'francisfordcoppola', 'drew', 'dollars', 'ending', 'standing', 'molly', 'frustrated', 'roommate', 'mattdillon', 'lesbian', 'louisiana', 'penn', 'manipulation', 'bail', 'influence', 'drugdealer', 'maria', 'christopherlloyd', '20th', 'poet', 'ryanphillippe', 'jessebradford', 'killers', 'feature', 'movies', 'fake', 'slasher', 'ohio', 'curtishanson', 'argument', 'valentine', 'grade', 'seniors', 'jesse', 'keeps', 'antics', 'mitch', 'bodies', 'minor', 'pimp', 'jonathanrhysmeyers', 'multiple', 'aggressive', 'medication', 'parody', 'destined', 'doubts', 'bennett', 'gay', 'think', 'medicine', 'deeds', 'loveletter', 'liar', 'pistol', 'exposes', 'write', 'matthew', 'highschool', 'neiljordan', 'celebrate', 'courtcase', 'spikelee', 'welcome', 'fascinated', 'nun', 'emily', 'billy', 'yellow', 'lindsaylohan', 'traumatic', 'taste', 'fi', 'passing', 'tense', 'numerous', 'capitalism', 'americanabroad', 'virginiamadsen', 'occurs', 'silent', 'illness', 'psychiatric', 'variety', 'hasn', 'bonds', 'virginity', 'heather', 'adults', 'masturbation', 'insists', 'affairs', 'foundfootage', 'lovable', 'develop', 'humananimalrelationship', 'respected', 'dannyboyle', 'finished', 'grisly', 'roots', 'katie', 'forms', 'genocide', 'il', 'du', 'hyun', 'seo', 'nam', 'drunk', 'object', 'receiving', 'exercise', 'guilty', 'johncarpenter', 'prejudices', 'sittingonatoilet', 'laxative', 'murray', 'murdering', 'cocaine', 'davidgordongreen', 'misguided', 'sweet', 'reverend', 'convicted', 'sale', 'model', 'spectacle', 'prostitution', 'online', 'approaches', 'unsuspecting', 'derek', 'sending', 'harold', 'rockandroll', 'heavymetal', 'august', 'arrested', 'addicted', 'addiction', 'indiana', 'injury', 'queenlatifah', 'junior', 'driving', 'whoopigoldberg', 'hypnosis', 'marymccormack', 'showing', 'suicidal', 'jazz', 'psychological', 'shattered', 'pursued', 'employs', 'karen', 'entertaining', 'initially', 'puberty', 'policebrutality', 'residents', 'servant', 'stephenfrears', 'neal', 'womanrelation', '1990s', 'employees', 'malefriendship', 'controlling', 'ethanhawke', 'ailing', 'regime', 'comedic', 'gave', 'combination', 'stephendorff', 'academic', 'scholarship', 'ugly', 'customers', 'intertwine', 'dolphin', 'bankrobber', 'pot', 'kidnappers', 'kimbasinger', 'ellis', 'davis', 'riot', 'protest', 'package', 'horrible', 'involves', 'seriesofmurders', 'doug', 'laura', 'jennifer', 'ashley', 'attic', 'blonde', 'border', 'remain', 'deaf', 'principal', 'charliesheen', 'supermarket', 'iranian', 'samuel', 'stewart', 'sexually', 'sexualabuse', 'photography', 'talk', 'mobsters', 'immigrants', 'connected', 'competing', 'studies', 'unorthodox', 'writing', 'poetry', 'unsociability', 'gusvansant', 'treatment', 'piano', 'bobhoskins', 'girlfriends', 'promising', 'totally', 'figures', 'classmate', 'zacefron', 'strict', 'ended', 'hopelessly', 'mrs', 'oppositesattract', 'straight', 'wildly', 'buddies', 'taylor', 'unconventional', 'ashleyjudd', 'premonition', 'lgbt', 'solomon', 'pick', 'naive', 'breast', 'edwardburns', 'dennishopper', 'unemployed', 'kim', 'hide', 'pete', 'racial', 'rapper', 'hip', 'hop', 'shannynsossamon', 'fatal', 'tonicollette', 'daniel', 'pushes', 'scam', 'thanks', 'skateboarding', 'diner', 'campus', 'carmen', 'annabelle', 'communication', 'davidarquette', 'nevecampbell', 'wescraven', 'fund', 'month', 'julia', 'colleagues', 'circuit', 'countrymusic', 'camcorder', 'dates', 'orleans', 'nanny', 'dysfunctional', 'nialong', 'highschoolsports', 'mutual', 'francis', 'maya', 'motley', 'valuable', 'painful', 'stalked', 'ax', 'hannah', 'nightstand', 'malefemalerelationship', 'basedonplay', 'ambulance', 'extra', 'morgue', 'sidney', 'maskedkiller', 'composer', 'forget', 'particularly', 'announces', 'aids', 'africanamerican', 'rights', 'shares', 'nancy', 'catherinedeneuve', 'commercial', 'zoe', 'round', 'vincent', 'ronnie', 'rachaelleighcook', 'followed', 'pawns', 'sharing', 'yuppie', 'cope', 'shyness', 'teencomedy', 'brief', 'adapted', 'agree', 'malcolmd', 'claudevandamme', 'sights', 'prank', 'experienced', 'screenwriter', 'guitar', 'celebrated', 'caretaker', 'performer', 'popularity', 'dealing', 'emotionally', 'lights', 'chad', 'gym', 'ethancoen', 'reclusive', 'reading', 'abigailbreslin', 'farewell', 'kevinsmith', 'crab', 'lukewilson', 'trucker', 'companion', 'botched', 'colin', 'condition', 'locate', 'catholic', 'education', 'entity', 'williamshatner', 'smoking', 'cairo', 'comingout', 'decapitation', 'apparently', 'krueger', 'philippe', 'mentally', 'jamie', 'sorority', 'fraternity', 'thirty', 'weeks', 'feud', 'michaelsheen', 'diane', 'odd', 'drink', 'jesus', 'jesuschrist', 'groupoffriends', 'amysmart', 'website', 'tylerperry', 'portrait', 'finale', 'wood', 'genre', 'sarapaxton', 'leslienielsen', 'oregon', 'australian', 'lassehallström', 'victoria', 'harsh', 'verylittledialogue', 'jigsaw', '1974', 'wine', 'haunt', 'omar', 'amidst', 'missouri', 'idealistic', 'economic', 'ellenburstyn', 'communist', 'owned', 'joel', 'frozen', 'acting', 'teenagesexuality', 'sudden', 'pack', 'stevens', 'anarchiccomedy', 'korea', 'disabled', 'rogermoore', 'hopedavis', 'caraccident', 'cheerleader', 'slum', 'wearing', 'multi', 'teenagegirl', 'teenmovie', 'rugrats', 'talks', 'annakendrick', 'vow', 'cooper', 'painter', 'pays', 'shoes', 'morrischestnut', 'commit', 'deeper', 'emilywatson', 'loan', 'freshman', 'cultural', 'classroom', 'prom', 'classmates', 'musicians', 'demonic', 'infected', 'miner', '18', 'touching', 'canada', 'suitor', 'gambler', 'disturbed', 'secure', 'cameras', 'perry', 'debut', 'cultfilm', 'camping', '1980', 'cigarettesmoking', 'prejudice', 'pedophilia', 'incest', 'ghetto', 'crocodile', 'entertainer', 'stalker', 'playwright', 'warden', 'oxford', 'richardlinklater', 'horrors', 'jessica', 'worked', 'mall', 'likes', 'firsttime', 'romeo', 'theatremilieu', 'stoner', 'bandits', 'lawman', 'achieve', 'mayhem', 'resulting', 'christopherlambert', 'housekeeper', 'freddy', 'robertenglund', 'arrangement', 'fling', 'gregorypeck', 'beth', 'newcomer', 'madea', 'arrangedmarriage', 'locals', 'eddiegriffin', 'olivia', 'stopped', 'establishment', 'porn', 'marrying', 'unforgettable', 'ireland', 'converge', 'stones', 'mega', 'rocket', 'trafficking', 'philadelphia', 'montreal', 'bloodsplatter', 'becky', 'melbrooks', 'sleazy', 'morris', 'loser', 'gandhi', 'indianlead', 'anonymous', 'traditional', 'existentialism', 'getaway', 'depressed', 'relatives', 'buck', 'madame', 'marketing', 'basement', 'crossdressing', 'reconnect', 'dignity', 'intimate', 'investment', 'recording', 'gossip', 'chainsaw', 'jerusalem', 'beer', 'dare', 'alfredhitchcock', 'preacher', 'michaelmoore', 'exclusive', 'monroe', 'waiter', 'vanessahudgens', 'warehouse', 'outback', 'lola', 'kathy', 'tradition', 'backgrounds', 'brent', 'spiritual', 'contemporary', 'addict', 'parties', 'screaming', 'tvmovie', '1944', 'legends', 'craig', 'unsimulatedsex', 'teachers', 'filmmakers', 'masks', 'leon', 'partying', 'examines', 'slapstick', 'toronto', 'highschoolstudent', 'jin', 'tae', 'labor', 'brandon', 'mumblecore', 'markduplass', 'chloësevigny', 'iran', 'lesbianrelationship', 'bisexual', 'eva', 'mormon', 'mumblegore'])"
      ]
     },
     "execution_count": 50,
     "metadata": {},
     "output_type": "execute_result"
    }
   ],
   "source": [
    "\n",
    "cv.vocabulary_.keys()"
   ]
  },
  {
   "cell_type": "code",
   "execution_count": 51,
   "id": "81ea23ef",
   "metadata": {},
   "outputs": [],
   "source": [
    "ps=PorterStemmer()\n"
   ]
  },
  {
   "cell_type": "code",
   "execution_count": 52,
   "id": "223efca9",
   "metadata": {},
   "outputs": [],
   "source": [
    "def stem(text):\n",
    "    y=[]\n",
    "    for i in text.split():\n",
    "        y.append(ps.stem(i))\n",
    "    return \" \".join(y)    "
   ]
  },
  {
   "cell_type": "code",
   "execution_count": 53,
   "id": "3d07f489",
   "metadata": {},
   "outputs": [
    {
     "name": "stdout",
     "output_type": "stream",
     "text": [
      "danc\n"
     ]
    }
   ],
   "source": [
    "x=stem('dancing')\n",
    "print(x)"
   ]
  },
  {
   "cell_type": "code",
   "execution_count": 54,
   "id": "c5682d36",
   "metadata": {},
   "outputs": [
    {
     "name": "stderr",
     "output_type": "stream",
     "text": [
      "C:\\Users\\Vaibhav\\AppData\\Local\\Temp\\ipykernel_13244\\3514595201.py:1: SettingWithCopyWarning: \n",
      "A value is trying to be set on a copy of a slice from a DataFrame.\n",
      "Try using .loc[row_indexer,col_indexer] = value instead\n",
      "\n",
      "See the caveats in the documentation: https://pandas.pydata.org/pandas-docs/stable/user_guide/indexing.html#returning-a-view-versus-a-copy\n",
      "  new_df['tags']=new_df['tags'].apply(stem)\n"
     ]
    }
   ],
   "source": [
    "new_df['tags']=new_df['tags'].apply(stem)"
   ]
  },
  {
   "cell_type": "code",
   "execution_count": 55,
   "id": "68e0ff83",
   "metadata": {},
   "outputs": [
    {
     "data": {
      "text/plain": [
       "(4806, 3)"
      ]
     },
     "execution_count": 55,
     "metadata": {},
     "output_type": "execute_result"
    }
   ],
   "source": [
    "new_df.shape"
   ]
  },
  {
   "cell_type": "code",
   "execution_count": 56,
   "id": "a2fac178",
   "metadata": {},
   "outputs": [],
   "source": [
    "from sklearn.metrics.pairwise import cosine_similarity"
   ]
  },
  {
   "cell_type": "code",
   "execution_count": 57,
   "id": "aa3a8d58",
   "metadata": {},
   "outputs": [],
   "source": [
    "similarity=cosine_similarity(vectors)"
   ]
  },
  {
   "cell_type": "code",
   "execution_count": 58,
   "id": "f5519995",
   "metadata": {},
   "outputs": [
    {
     "data": {
      "text/plain": [
       "array([[1.        , 0.08964215, 0.06071767, ..., 0.02519763, 0.0277885 ,\n",
       "        0.        ],\n",
       "       [0.08964215, 1.        , 0.06350006, ..., 0.02635231, 0.        ,\n",
       "        0.        ],\n",
       "       [0.06071767, 0.06350006, 1.        , ..., 0.02677398, 0.        ,\n",
       "        0.        ],\n",
       "       ...,\n",
       "       [0.02519763, 0.02635231, 0.02677398, ..., 1.        , 0.07352146,\n",
       "        0.04774099],\n",
       "       [0.0277885 , 0.        , 0.        , ..., 0.07352146, 1.        ,\n",
       "        0.05264981],\n",
       "       [0.        , 0.        , 0.        , ..., 0.04774099, 0.05264981,\n",
       "        1.        ]])"
      ]
     },
     "execution_count": 58,
     "metadata": {},
     "output_type": "execute_result"
    }
   ],
   "source": [
    "similarity"
   ]
  },
  {
   "cell_type": "code",
   "execution_count": 59,
   "id": "b5a10c71",
   "metadata": {},
   "outputs": [],
   "source": [
    "def recommend(movie):\n",
    "    index = new_df[new_df['title'] == movie].index[0]\n",
    "    distances = sorted(list(enumerate(similarity[index])),reverse=True,key = lambda x: x[1])\n",
    "    for i in distances[1:6]:\n",
    "        print(new_df.iloc[i[0]].title)"
   ]
  },
  {
   "cell_type": "code",
   "execution_count": 60,
   "id": "b7924ccb",
   "metadata": {},
   "outputs": [
    {
     "name": "stdout",
     "output_type": "stream",
     "text": [
      "Gandhi, My Father\n",
      "The Wind That Shakes the Barley\n",
      "A Passage to India\n",
      "Guiana 1838\n",
      "Ramanujan\n"
     ]
    }
   ],
   "source": [
    "recommend('Gandhi')"
   ]
  },
  {
   "cell_type": "code",
   "execution_count": 61,
   "id": "b1a77334",
   "metadata": {},
   "outputs": [],
   "source": [
    "pickle.dump(new_df.to_dict(),open('movie_dict.pkl','wb'))"
   ]
  },
  {
   "cell_type": "code",
   "execution_count": 62,
   "id": "b05ae147",
   "metadata": {},
   "outputs": [],
   "source": [
    "pickle.dump(similarity,open('similarity.pkl','wb'))"
   ]
  },
  {
   "cell_type": "code",
   "execution_count": 63,
   "id": "a3be871c",
   "metadata": {},
   "outputs": [],
   "source": [
    "pickle.dump(new_df,open('movie_list.pkl','wb'))"
   ]
  }
 ],
 "metadata": {
  "kernelspec": {
   "display_name": "Python 3 (ipykernel)",
   "language": "python",
   "name": "python3"
  },
  "language_info": {
   "codemirror_mode": {
    "name": "ipython",
    "version": 3
   },
   "file_extension": ".py",
   "mimetype": "text/x-python",
   "name": "python",
   "nbconvert_exporter": "python",
   "pygments_lexer": "ipython3",
   "version": "3.10.9"
  }
 },
 "nbformat": 4,
 "nbformat_minor": 5
}
